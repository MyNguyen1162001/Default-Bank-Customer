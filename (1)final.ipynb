{
 "cells": [
  {
   "cell_type": "markdown",
   "id": "b03b0799",
   "metadata": {},
   "source": [
    "## Bank Customer Creditworthiness Prediction"
   ]
  },
  {
   "cell_type": "code",
   "execution_count": 1,
   "id": "8a11c969",
   "metadata": {},
   "outputs": [],
   "source": [
    "import pandas as pd\n",
    "import numpy as np\n",
    "import matplotlib.pyplot as plt\n",
    "import seaborn as sns\n",
    "%matplotlib inline\n",
    "\n",
    "# Correlation check\n",
    "from scipy import stats\n",
    "from scipy.stats import chi2_contingency\n",
    "from statsmodels.stats.outliers_influence import variance_inflation_factor\n",
    "\n",
    "# Modeling\n",
    "from sklearn.model_selection import GridSearchCV\n",
    "from sklearn.pipeline import Pipeline\n",
    "from sklearn.preprocessing import MinMaxScaler, PolynomialFeatures\n",
    "from sklearn.model_selection import train_test_split\n",
    "from sklearn.linear_model import LogisticRegression\n",
    "from sklearn.neighbors import KNeighborsClassifier\n",
    "from sklearn.tree import DecisionTreeClassifier\n",
    "from sklearn.naive_bayes import GaussianNB\n",
    "from statsmodels.genmod.generalized_linear_model import GLM\n",
    "from statsmodels.genmod import families\n",
    "from statsmodels.graphics.regressionplots import influence_plot\n",
    "from scipy.stats import skew\n",
    "\n",
    "# Model evaluation\n",
    "from sklearn.model_selection import KFold\n",
    "from sklearn.model_selection import cross_val_score\n",
    "from sklearn.metrics import classification_report\n",
    "from sklearn.metrics import confusion_matrix, plot_confusion_matrix\n",
    "from sklearn.metrics import accuracy_score, precision_score, recall_score, f1_score\n",
    "from sklearn.metrics import mean_squared_error"
   ]
  },
  {
   "cell_type": "code",
   "execution_count": 2,
   "id": "bd38d445",
   "metadata": {},
   "outputs": [
    {
     "data": {
      "text/html": [
       "<div>\n",
       "<style scoped>\n",
       "    .dataframe tbody tr th:only-of-type {\n",
       "        vertical-align: middle;\n",
       "    }\n",
       "\n",
       "    .dataframe tbody tr th {\n",
       "        vertical-align: top;\n",
       "    }\n",
       "\n",
       "    .dataframe thead th {\n",
       "        text-align: right;\n",
       "    }\n",
       "</style>\n",
       "<table border=\"1\" class=\"dataframe\">\n",
       "  <thead>\n",
       "    <tr style=\"text-align: right;\">\n",
       "      <th></th>\n",
       "      <th>local_ref_1</th>\n",
       "      <th>vn_marital_status</th>\n",
       "      <th>resid_province</th>\n",
       "      <th>resid_district</th>\n",
       "      <th>resid_wards</th>\n",
       "      <th>birth_incorp_date</th>\n",
       "      <th>amount_week</th>\n",
       "      <th>max_amount_week</th>\n",
       "      <th>min_amount_week</th>\n",
       "      <th>distinct_payment_code_week</th>\n",
       "      <th>...</th>\n",
       "      <th>totalSavings2021_heoSo</th>\n",
       "      <th>balanceJuin2021</th>\n",
       "      <th>nominal_interestJuin2021</th>\n",
       "      <th>real_interestJuin2021</th>\n",
       "      <th>nhomno_xhtdJuin2021</th>\n",
       "      <th>categoryJuin2021</th>\n",
       "      <th>sub_productJuin2021</th>\n",
       "      <th>loaikyhanJuin2021</th>\n",
       "      <th>sectorJuin2021</th>\n",
       "      <th>product_codeJuin2021</th>\n",
       "    </tr>\n",
       "  </thead>\n",
       "  <tbody>\n",
       "    <tr>\n",
       "      <th>0</th>\n",
       "      <td>MALE</td>\n",
       "      <td>Married</td>\n",
       "      <td>27.0</td>\n",
       "      <td>262.0</td>\n",
       "      <td>9436.0</td>\n",
       "      <td>1992.0</td>\n",
       "      <td>NaN</td>\n",
       "      <td>NaN</td>\n",
       "      <td>NaN</td>\n",
       "      <td>0.0</td>\n",
       "      <td>...</td>\n",
       "      <td>NaN</td>\n",
       "      <td>NaN</td>\n",
       "      <td>NaN</td>\n",
       "      <td>NaN</td>\n",
       "      <td>NaN</td>\n",
       "      <td>NaN</td>\n",
       "      <td>NaN</td>\n",
       "      <td>NaN</td>\n",
       "      <td>NaN</td>\n",
       "      <td>NaN</td>\n",
       "    </tr>\n",
       "    <tr>\n",
       "      <th>1</th>\n",
       "      <td>MALE</td>\n",
       "      <td>Single</td>\n",
       "      <td>79.0</td>\n",
       "      <td>769.0</td>\n",
       "      <td>27097.0</td>\n",
       "      <td>1986.0</td>\n",
       "      <td>NaN</td>\n",
       "      <td>NaN</td>\n",
       "      <td>NaN</td>\n",
       "      <td>NaN</td>\n",
       "      <td>...</td>\n",
       "      <td>NaN</td>\n",
       "      <td>0.003666</td>\n",
       "      <td>0.006953</td>\n",
       "      <td>0.004128</td>\n",
       "      <td>1.0</td>\n",
       "      <td>21061.0</td>\n",
       "      <td>365.0</td>\n",
       "      <td>DH</td>\n",
       "      <td>1890.0</td>\n",
       "      <td>22321.0</td>\n",
       "    </tr>\n",
       "    <tr>\n",
       "      <th>2</th>\n",
       "      <td>MALE</td>\n",
       "      <td>Married</td>\n",
       "      <td>1.0</td>\n",
       "      <td>250.0</td>\n",
       "      <td>8989.0</td>\n",
       "      <td>1980.0</td>\n",
       "      <td>NaN</td>\n",
       "      <td>NaN</td>\n",
       "      <td>NaN</td>\n",
       "      <td>NaN</td>\n",
       "      <td>...</td>\n",
       "      <td>NaN</td>\n",
       "      <td>NaN</td>\n",
       "      <td>NaN</td>\n",
       "      <td>NaN</td>\n",
       "      <td>NaN</td>\n",
       "      <td>NaN</td>\n",
       "      <td>NaN</td>\n",
       "      <td>NaN</td>\n",
       "      <td>NaN</td>\n",
       "      <td>NaN</td>\n",
       "    </tr>\n",
       "    <tr>\n",
       "      <th>3</th>\n",
       "      <td>MALE</td>\n",
       "      <td>Single</td>\n",
       "      <td>40.0</td>\n",
       "      <td>431.0</td>\n",
       "      <td>18055.0</td>\n",
       "      <td>2001.0</td>\n",
       "      <td>NaN</td>\n",
       "      <td>NaN</td>\n",
       "      <td>NaN</td>\n",
       "      <td>NaN</td>\n",
       "      <td>...</td>\n",
       "      <td>NaN</td>\n",
       "      <td>NaN</td>\n",
       "      <td>NaN</td>\n",
       "      <td>NaN</td>\n",
       "      <td>NaN</td>\n",
       "      <td>NaN</td>\n",
       "      <td>NaN</td>\n",
       "      <td>NaN</td>\n",
       "      <td>NaN</td>\n",
       "      <td>NaN</td>\n",
       "    </tr>\n",
       "    <tr>\n",
       "      <th>4</th>\n",
       "      <td>MALE</td>\n",
       "      <td>Married</td>\n",
       "      <td>49.0</td>\n",
       "      <td>512.0</td>\n",
       "      <td>20758.0</td>\n",
       "      <td>1989.0</td>\n",
       "      <td>0.0</td>\n",
       "      <td>0.000114</td>\n",
       "      <td>0.000636</td>\n",
       "      <td>0.0</td>\n",
       "      <td>...</td>\n",
       "      <td>NaN</td>\n",
       "      <td>NaN</td>\n",
       "      <td>NaN</td>\n",
       "      <td>NaN</td>\n",
       "      <td>NaN</td>\n",
       "      <td>NaN</td>\n",
       "      <td>NaN</td>\n",
       "      <td>NaN</td>\n",
       "      <td>NaN</td>\n",
       "      <td>NaN</td>\n",
       "    </tr>\n",
       "  </tbody>\n",
       "</table>\n",
       "<p>5 rows × 50 columns</p>\n",
       "</div>"
      ],
      "text/plain": [
       "  local_ref_1 vn_marital_status  resid_province  resid_district  resid_wards  \\\n",
       "0        MALE           Married            27.0           262.0       9436.0   \n",
       "1        MALE            Single            79.0           769.0      27097.0   \n",
       "2        MALE           Married             1.0           250.0       8989.0   \n",
       "3        MALE            Single            40.0           431.0      18055.0   \n",
       "4        MALE           Married            49.0           512.0      20758.0   \n",
       "\n",
       "   birth_incorp_date   amount_week   max_amount_week  min_amount_week  \\\n",
       "0             1992.0            NaN              NaN              NaN   \n",
       "1             1986.0            NaN              NaN              NaN   \n",
       "2             1980.0            NaN              NaN              NaN   \n",
       "3             2001.0            NaN              NaN              NaN   \n",
       "4             1989.0            0.0         0.000114         0.000636   \n",
       "\n",
       "   distinct_payment_code_week  ...  totalSavings2021_heoSo  balanceJuin2021  \\\n",
       "0                         0.0  ...                     NaN              NaN   \n",
       "1                         NaN  ...                     NaN         0.003666   \n",
       "2                         NaN  ...                     NaN              NaN   \n",
       "3                         NaN  ...                     NaN              NaN   \n",
       "4                         0.0  ...                     NaN              NaN   \n",
       "\n",
       "   nominal_interestJuin2021  real_interestJuin2021  nhomno_xhtdJuin2021  \\\n",
       "0                       NaN                    NaN                  NaN   \n",
       "1                  0.006953               0.004128                  1.0   \n",
       "2                       NaN                    NaN                  NaN   \n",
       "3                       NaN                    NaN                  NaN   \n",
       "4                       NaN                    NaN                  NaN   \n",
       "\n",
       "   categoryJuin2021  sub_productJuin2021  loaikyhanJuin2021  sectorJuin2021  \\\n",
       "0               NaN                  NaN                NaN             NaN   \n",
       "1           21061.0                365.0                 DH          1890.0   \n",
       "2               NaN                  NaN                NaN             NaN   \n",
       "3               NaN                  NaN                NaN             NaN   \n",
       "4               NaN                  NaN                NaN             NaN   \n",
       "\n",
       "   product_codeJuin2021  \n",
       "0                   NaN  \n",
       "1               22321.0  \n",
       "2                   NaN  \n",
       "3                   NaN  \n",
       "4                   NaN  \n",
       "\n",
       "[5 rows x 50 columns]"
      ]
     },
     "execution_count": 2,
     "metadata": {},
     "output_type": "execute_result"
    }
   ],
   "source": [
    "data = pd.read_csv('dataset.csv')\n",
    "data.head()"
   ]
  },
  {
   "cell_type": "code",
   "execution_count": 3,
   "id": "4f32a00d",
   "metadata": {},
   "outputs": [
    {
     "data": {
      "text/html": [
       "<div>\n",
       "<style scoped>\n",
       "    .dataframe tbody tr th:only-of-type {\n",
       "        vertical-align: middle;\n",
       "    }\n",
       "\n",
       "    .dataframe tbody tr th {\n",
       "        vertical-align: top;\n",
       "    }\n",
       "\n",
       "    .dataframe thead th {\n",
       "        text-align: right;\n",
       "    }\n",
       "</style>\n",
       "<table border=\"1\" class=\"dataframe\">\n",
       "  <thead>\n",
       "    <tr style=\"text-align: right;\">\n",
       "      <th></th>\n",
       "      <th>gender</th>\n",
       "      <th>marital_status</th>\n",
       "      <th>resid_province</th>\n",
       "      <th>resid_district</th>\n",
       "      <th>resid_wards</th>\n",
       "      <th>birth_incorp_date</th>\n",
       "      <th>amount_week</th>\n",
       "      <th>max_amount_week</th>\n",
       "      <th>min_amount_week</th>\n",
       "      <th>distinct_payment_code_week</th>\n",
       "      <th>...</th>\n",
       "      <th>totalSavings2021_heoSo</th>\n",
       "      <th>balanceJuin2021</th>\n",
       "      <th>nominal_interestJuin2021</th>\n",
       "      <th>real_interestJuin2021</th>\n",
       "      <th>nhomno_xhtdJuin2021</th>\n",
       "      <th>categoryJuin2021</th>\n",
       "      <th>sub_productJuin2021</th>\n",
       "      <th>loaikyhanJuin2021</th>\n",
       "      <th>sectorJuin2021</th>\n",
       "      <th>product_codeJuin2021</th>\n",
       "    </tr>\n",
       "  </thead>\n",
       "  <tbody>\n",
       "    <tr>\n",
       "      <th>0</th>\n",
       "      <td>MALE</td>\n",
       "      <td>Married</td>\n",
       "      <td>27.0</td>\n",
       "      <td>262.0</td>\n",
       "      <td>9436.0</td>\n",
       "      <td>1992.0</td>\n",
       "      <td>NaN</td>\n",
       "      <td>NaN</td>\n",
       "      <td>NaN</td>\n",
       "      <td>0.0</td>\n",
       "      <td>...</td>\n",
       "      <td>NaN</td>\n",
       "      <td>NaN</td>\n",
       "      <td>NaN</td>\n",
       "      <td>NaN</td>\n",
       "      <td>NaN</td>\n",
       "      <td>NaN</td>\n",
       "      <td>NaN</td>\n",
       "      <td>NaN</td>\n",
       "      <td>NaN</td>\n",
       "      <td>NaN</td>\n",
       "    </tr>\n",
       "    <tr>\n",
       "      <th>1</th>\n",
       "      <td>MALE</td>\n",
       "      <td>Single</td>\n",
       "      <td>79.0</td>\n",
       "      <td>769.0</td>\n",
       "      <td>27097.0</td>\n",
       "      <td>1986.0</td>\n",
       "      <td>NaN</td>\n",
       "      <td>NaN</td>\n",
       "      <td>NaN</td>\n",
       "      <td>NaN</td>\n",
       "      <td>...</td>\n",
       "      <td>NaN</td>\n",
       "      <td>0.003666</td>\n",
       "      <td>0.006953</td>\n",
       "      <td>0.004128</td>\n",
       "      <td>1.0</td>\n",
       "      <td>21061.0</td>\n",
       "      <td>365.0</td>\n",
       "      <td>DH</td>\n",
       "      <td>1890.0</td>\n",
       "      <td>22321.0</td>\n",
       "    </tr>\n",
       "    <tr>\n",
       "      <th>2</th>\n",
       "      <td>MALE</td>\n",
       "      <td>Married</td>\n",
       "      <td>1.0</td>\n",
       "      <td>250.0</td>\n",
       "      <td>8989.0</td>\n",
       "      <td>1980.0</td>\n",
       "      <td>NaN</td>\n",
       "      <td>NaN</td>\n",
       "      <td>NaN</td>\n",
       "      <td>NaN</td>\n",
       "      <td>...</td>\n",
       "      <td>NaN</td>\n",
       "      <td>NaN</td>\n",
       "      <td>NaN</td>\n",
       "      <td>NaN</td>\n",
       "      <td>NaN</td>\n",
       "      <td>NaN</td>\n",
       "      <td>NaN</td>\n",
       "      <td>NaN</td>\n",
       "      <td>NaN</td>\n",
       "      <td>NaN</td>\n",
       "    </tr>\n",
       "    <tr>\n",
       "      <th>3</th>\n",
       "      <td>MALE</td>\n",
       "      <td>Single</td>\n",
       "      <td>40.0</td>\n",
       "      <td>431.0</td>\n",
       "      <td>18055.0</td>\n",
       "      <td>2001.0</td>\n",
       "      <td>NaN</td>\n",
       "      <td>NaN</td>\n",
       "      <td>NaN</td>\n",
       "      <td>NaN</td>\n",
       "      <td>...</td>\n",
       "      <td>NaN</td>\n",
       "      <td>NaN</td>\n",
       "      <td>NaN</td>\n",
       "      <td>NaN</td>\n",
       "      <td>NaN</td>\n",
       "      <td>NaN</td>\n",
       "      <td>NaN</td>\n",
       "      <td>NaN</td>\n",
       "      <td>NaN</td>\n",
       "      <td>NaN</td>\n",
       "    </tr>\n",
       "    <tr>\n",
       "      <th>4</th>\n",
       "      <td>MALE</td>\n",
       "      <td>Married</td>\n",
       "      <td>49.0</td>\n",
       "      <td>512.0</td>\n",
       "      <td>20758.0</td>\n",
       "      <td>1989.0</td>\n",
       "      <td>0.0</td>\n",
       "      <td>0.000114</td>\n",
       "      <td>0.000636</td>\n",
       "      <td>0.0</td>\n",
       "      <td>...</td>\n",
       "      <td>NaN</td>\n",
       "      <td>NaN</td>\n",
       "      <td>NaN</td>\n",
       "      <td>NaN</td>\n",
       "      <td>NaN</td>\n",
       "      <td>NaN</td>\n",
       "      <td>NaN</td>\n",
       "      <td>NaN</td>\n",
       "      <td>NaN</td>\n",
       "      <td>NaN</td>\n",
       "    </tr>\n",
       "  </tbody>\n",
       "</table>\n",
       "<p>5 rows × 50 columns</p>\n",
       "</div>"
      ],
      "text/plain": [
       "  gender marital_status  resid_province  resid_district  resid_wards  \\\n",
       "0   MALE        Married            27.0           262.0       9436.0   \n",
       "1   MALE         Single            79.0           769.0      27097.0   \n",
       "2   MALE        Married             1.0           250.0       8989.0   \n",
       "3   MALE         Single            40.0           431.0      18055.0   \n",
       "4   MALE        Married            49.0           512.0      20758.0   \n",
       "\n",
       "   birth_incorp_date   amount_week   max_amount_week  min_amount_week  \\\n",
       "0             1992.0            NaN              NaN              NaN   \n",
       "1             1986.0            NaN              NaN              NaN   \n",
       "2             1980.0            NaN              NaN              NaN   \n",
       "3             2001.0            NaN              NaN              NaN   \n",
       "4             1989.0            0.0         0.000114         0.000636   \n",
       "\n",
       "   distinct_payment_code_week  ...  totalSavings2021_heoSo  balanceJuin2021  \\\n",
       "0                         0.0  ...                     NaN              NaN   \n",
       "1                         NaN  ...                     NaN         0.003666   \n",
       "2                         NaN  ...                     NaN              NaN   \n",
       "3                         NaN  ...                     NaN              NaN   \n",
       "4                         0.0  ...                     NaN              NaN   \n",
       "\n",
       "   nominal_interestJuin2021  real_interestJuin2021  nhomno_xhtdJuin2021  \\\n",
       "0                       NaN                    NaN                  NaN   \n",
       "1                  0.006953               0.004128                  1.0   \n",
       "2                       NaN                    NaN                  NaN   \n",
       "3                       NaN                    NaN                  NaN   \n",
       "4                       NaN                    NaN                  NaN   \n",
       "\n",
       "   categoryJuin2021  sub_productJuin2021  loaikyhanJuin2021  sectorJuin2021  \\\n",
       "0               NaN                  NaN                NaN             NaN   \n",
       "1           21061.0                365.0                 DH          1890.0   \n",
       "2               NaN                  NaN                NaN             NaN   \n",
       "3               NaN                  NaN                NaN             NaN   \n",
       "4               NaN                  NaN                NaN             NaN   \n",
       "\n",
       "   product_codeJuin2021  \n",
       "0                   NaN  \n",
       "1               22321.0  \n",
       "2                   NaN  \n",
       "3                   NaN  \n",
       "4                   NaN  \n",
       "\n",
       "[5 rows x 50 columns]"
      ]
     },
     "execution_count": 3,
     "metadata": {},
     "output_type": "execute_result"
    }
   ],
   "source": [
    "data.rename(columns={'local_ref_1':'gender', 'vn_marital_status':'marital_status'}, inplace=True)\n",
    "data.head()"
   ]
  },
  {
   "cell_type": "code",
   "execution_count": 4,
   "id": "69699e0d",
   "metadata": {
    "scrolled": false
   },
   "outputs": [
    {
     "data": {
      "text/html": [
       "<div>\n",
       "<style scoped>\n",
       "    .dataframe tbody tr th:only-of-type {\n",
       "        vertical-align: middle;\n",
       "    }\n",
       "\n",
       "    .dataframe tbody tr th {\n",
       "        vertical-align: top;\n",
       "    }\n",
       "\n",
       "    .dataframe thead th {\n",
       "        text-align: right;\n",
       "    }\n",
       "</style>\n",
       "<table border=\"1\" class=\"dataframe\">\n",
       "  <thead>\n",
       "    <tr style=\"text-align: right;\">\n",
       "      <th></th>\n",
       "      <th>resid_province</th>\n",
       "      <th>resid_district</th>\n",
       "      <th>resid_wards</th>\n",
       "      <th>birth_incorp_date</th>\n",
       "      <th>amount_week</th>\n",
       "      <th>max_amount_week</th>\n",
       "      <th>min_amount_week</th>\n",
       "      <th>distinct_payment_code_week</th>\n",
       "      <th>count_payment_code_week</th>\n",
       "      <th>distinct_trans_group_week</th>\n",
       "      <th>...</th>\n",
       "      <th>totalLoginJuin2021_heoSo</th>\n",
       "      <th>totalSavings2021_heoSo</th>\n",
       "      <th>balanceJuin2021</th>\n",
       "      <th>nominal_interestJuin2021</th>\n",
       "      <th>real_interestJuin2021</th>\n",
       "      <th>nhomno_xhtdJuin2021</th>\n",
       "      <th>categoryJuin2021</th>\n",
       "      <th>sub_productJuin2021</th>\n",
       "      <th>sectorJuin2021</th>\n",
       "      <th>product_codeJuin2021</th>\n",
       "    </tr>\n",
       "  </thead>\n",
       "  <tbody>\n",
       "    <tr>\n",
       "      <th>count</th>\n",
       "      <td>93431.000000</td>\n",
       "      <td>93435.000000</td>\n",
       "      <td>93433.000000</td>\n",
       "      <td>99990.000000</td>\n",
       "      <td>54800.00000</td>\n",
       "      <td>5.480000e+04</td>\n",
       "      <td>54800.000000</td>\n",
       "      <td>56850.000000</td>\n",
       "      <td>56850.000000</td>\n",
       "      <td>56850.000000</td>\n",
       "      <td>...</td>\n",
       "      <td>7571.000000</td>\n",
       "      <td>7592.000000</td>\n",
       "      <td>29956.000000</td>\n",
       "      <td>29956.000000</td>\n",
       "      <td>29956.000000</td>\n",
       "      <td>29956.000000</td>\n",
       "      <td>29956.000000</td>\n",
       "      <td>20750.000000</td>\n",
       "      <td>29956.000000</td>\n",
       "      <td>29956.000000</td>\n",
       "    </tr>\n",
       "    <tr>\n",
       "      <th>mean</th>\n",
       "      <td>32.143379</td>\n",
       "      <td>339.395291</td>\n",
       "      <td>12481.062130</td>\n",
       "      <td>1988.480668</td>\n",
       "      <td>0.00059</td>\n",
       "      <td>1.223446e-03</td>\n",
       "      <td>0.000669</td>\n",
       "      <td>0.336851</td>\n",
       "      <td>0.577766</td>\n",
       "      <td>1.489921</td>\n",
       "      <td>...</td>\n",
       "      <td>29.372606</td>\n",
       "      <td>0.016666</td>\n",
       "      <td>0.003399</td>\n",
       "      <td>0.005937</td>\n",
       "      <td>0.003274</td>\n",
       "      <td>1.780111</td>\n",
       "      <td>17776.982574</td>\n",
       "      <td>407.920916</td>\n",
       "      <td>1803.790292</td>\n",
       "      <td>24257.601716</td>\n",
       "    </tr>\n",
       "    <tr>\n",
       "      <th>std</th>\n",
       "      <td>29.360372</td>\n",
       "      <td>278.936947</td>\n",
       "      <td>10064.755806</td>\n",
       "      <td>9.474698</td>\n",
       "      <td>0.00615</td>\n",
       "      <td>6.287416e-03</td>\n",
       "      <td>0.007529</td>\n",
       "      <td>0.526343</td>\n",
       "      <td>2.857005</td>\n",
       "      <td>0.706985</td>\n",
       "      <td>...</td>\n",
       "      <td>56.832050</td>\n",
       "      <td>0.021570</td>\n",
       "      <td>0.016369</td>\n",
       "      <td>0.027024</td>\n",
       "      <td>0.017217</td>\n",
       "      <td>1.033548</td>\n",
       "      <td>5929.056978</td>\n",
       "      <td>44.138990</td>\n",
       "      <td>77.447833</td>\n",
       "      <td>1963.354679</td>\n",
       "    </tr>\n",
       "    <tr>\n",
       "      <th>min</th>\n",
       "      <td>0.000000</td>\n",
       "      <td>0.000000</td>\n",
       "      <td>0.000000</td>\n",
       "      <td>1073.000000</td>\n",
       "      <td>0.00000</td>\n",
       "      <td>2.040000e-09</td>\n",
       "      <td>0.000000</td>\n",
       "      <td>0.000000</td>\n",
       "      <td>0.000000</td>\n",
       "      <td>1.000000</td>\n",
       "      <td>...</td>\n",
       "      <td>1.000000</td>\n",
       "      <td>0.010638</td>\n",
       "      <td>0.000000</td>\n",
       "      <td>0.000000</td>\n",
       "      <td>-0.136527</td>\n",
       "      <td>1.000000</td>\n",
       "      <td>1005.000000</td>\n",
       "      <td>306.000000</td>\n",
       "      <td>1690.000000</td>\n",
       "      <td>21113.000000</td>\n",
       "    </tr>\n",
       "    <tr>\n",
       "      <th>25%</th>\n",
       "      <td>1.000000</td>\n",
       "      <td>21.000000</td>\n",
       "      <td>637.000000</td>\n",
       "      <td>1983.000000</td>\n",
       "      <td>0.00000</td>\n",
       "      <td>3.060000e-05</td>\n",
       "      <td>0.000011</td>\n",
       "      <td>0.000000</td>\n",
       "      <td>0.000000</td>\n",
       "      <td>1.000000</td>\n",
       "      <td>...</td>\n",
       "      <td>8.000000</td>\n",
       "      <td>0.010638</td>\n",
       "      <td>0.000000</td>\n",
       "      <td>0.000000</td>\n",
       "      <td>0.000000</td>\n",
       "      <td>1.000000</td>\n",
       "      <td>17002.000000</td>\n",
       "      <td>379.000000</td>\n",
       "      <td>1740.000000</td>\n",
       "      <td>23212.000000</td>\n",
       "    </tr>\n",
       "    <tr>\n",
       "      <th>50%</th>\n",
       "      <td>30.000000</td>\n",
       "      <td>298.000000</td>\n",
       "      <td>11077.000000</td>\n",
       "      <td>1990.000000</td>\n",
       "      <td>0.00000</td>\n",
       "      <td>1.551020e-04</td>\n",
       "      <td>0.000045</td>\n",
       "      <td>0.000000</td>\n",
       "      <td>0.000000</td>\n",
       "      <td>1.000000</td>\n",
       "      <td>...</td>\n",
       "      <td>16.000000</td>\n",
       "      <td>0.010638</td>\n",
       "      <td>0.000029</td>\n",
       "      <td>0.000094</td>\n",
       "      <td>0.000000</td>\n",
       "      <td>1.000000</td>\n",
       "      <td>21061.000000</td>\n",
       "      <td>386.000000</td>\n",
       "      <td>1830.000000</td>\n",
       "      <td>23231.000000</td>\n",
       "    </tr>\n",
       "    <tr>\n",
       "      <th>75%</th>\n",
       "      <td>51.000000</td>\n",
       "      <td>532.000000</td>\n",
       "      <td>21385.000000</td>\n",
       "      <td>1995.000000</td>\n",
       "      <td>0.00000</td>\n",
       "      <td>7.297960e-04</td>\n",
       "      <td>0.000182</td>\n",
       "      <td>1.000000</td>\n",
       "      <td>1.000000</td>\n",
       "      <td>2.000000</td>\n",
       "      <td>...</td>\n",
       "      <td>34.000000</td>\n",
       "      <td>0.010638</td>\n",
       "      <td>0.001500</td>\n",
       "      <td>0.003556</td>\n",
       "      <td>0.001684</td>\n",
       "      <td>2.000000</td>\n",
       "      <td>21064.000000</td>\n",
       "      <td>462.000000</td>\n",
       "      <td>1890.000000</td>\n",
       "      <td>26111.000000</td>\n",
       "    </tr>\n",
       "    <tr>\n",
       "      <th>max</th>\n",
       "      <td>96.000000</td>\n",
       "      <td>973.000000</td>\n",
       "      <td>99999.000000</td>\n",
       "      <td>2020.000000</td>\n",
       "      <td>1.00000</td>\n",
       "      <td>1.000000e+00</td>\n",
       "      <td>1.000000</td>\n",
       "      <td>5.000000</td>\n",
       "      <td>331.000000</td>\n",
       "      <td>6.000000</td>\n",
       "      <td>...</td>\n",
       "      <td>1361.000000</td>\n",
       "      <td>1.000000</td>\n",
       "      <td>1.000000</td>\n",
       "      <td>1.000000</td>\n",
       "      <td>1.000000</td>\n",
       "      <td>5.000000</td>\n",
       "      <td>21071.000000</td>\n",
       "      <td>750.000000</td>\n",
       "      <td>1918.000000</td>\n",
       "      <td>51811.000000</td>\n",
       "    </tr>\n",
       "  </tbody>\n",
       "</table>\n",
       "<p>8 rows × 45 columns</p>\n",
       "</div>"
      ],
      "text/plain": [
       "       resid_province  resid_district   resid_wards  birth_incorp_date  \\\n",
       "count    93431.000000    93435.000000  93433.000000       99990.000000   \n",
       "mean        32.143379      339.395291  12481.062130        1988.480668   \n",
       "std         29.360372      278.936947  10064.755806           9.474698   \n",
       "min          0.000000        0.000000      0.000000        1073.000000   \n",
       "25%          1.000000       21.000000    637.000000        1983.000000   \n",
       "50%         30.000000      298.000000  11077.000000        1990.000000   \n",
       "75%         51.000000      532.000000  21385.000000        1995.000000   \n",
       "max         96.000000      973.000000  99999.000000        2020.000000   \n",
       "\n",
       "        amount_week   max_amount_week  min_amount_week  \\\n",
       "count    54800.00000     5.480000e+04     54800.000000   \n",
       "mean         0.00059     1.223446e-03         0.000669   \n",
       "std          0.00615     6.287416e-03         0.007529   \n",
       "min          0.00000     2.040000e-09         0.000000   \n",
       "25%          0.00000     3.060000e-05         0.000011   \n",
       "50%          0.00000     1.551020e-04         0.000045   \n",
       "75%          0.00000     7.297960e-04         0.000182   \n",
       "max          1.00000     1.000000e+00         1.000000   \n",
       "\n",
       "       distinct_payment_code_week  count_payment_code_week  \\\n",
       "count                56850.000000             56850.000000   \n",
       "mean                     0.336851                 0.577766   \n",
       "std                      0.526343                 2.857005   \n",
       "min                      0.000000                 0.000000   \n",
       "25%                      0.000000                 0.000000   \n",
       "50%                      0.000000                 0.000000   \n",
       "75%                      1.000000                 1.000000   \n",
       "max                      5.000000               331.000000   \n",
       "\n",
       "       distinct_trans_group_week  ...  totalLoginJuin2021_heoSo  \\\n",
       "count               56850.000000  ...               7571.000000   \n",
       "mean                    1.489921  ...                 29.372606   \n",
       "std                     0.706985  ...                 56.832050   \n",
       "min                     1.000000  ...                  1.000000   \n",
       "25%                     1.000000  ...                  8.000000   \n",
       "50%                     1.000000  ...                 16.000000   \n",
       "75%                     2.000000  ...                 34.000000   \n",
       "max                     6.000000  ...               1361.000000   \n",
       "\n",
       "       totalSavings2021_heoSo  balanceJuin2021  nominal_interestJuin2021  \\\n",
       "count             7592.000000     29956.000000              29956.000000   \n",
       "mean                 0.016666         0.003399                  0.005937   \n",
       "std                  0.021570         0.016369                  0.027024   \n",
       "min                  0.010638         0.000000                  0.000000   \n",
       "25%                  0.010638         0.000000                  0.000000   \n",
       "50%                  0.010638         0.000029                  0.000094   \n",
       "75%                  0.010638         0.001500                  0.003556   \n",
       "max                  1.000000         1.000000                  1.000000   \n",
       "\n",
       "       real_interestJuin2021  nhomno_xhtdJuin2021  categoryJuin2021  \\\n",
       "count           29956.000000         29956.000000      29956.000000   \n",
       "mean                0.003274             1.780111      17776.982574   \n",
       "std                 0.017217             1.033548       5929.056978   \n",
       "min                -0.136527             1.000000       1005.000000   \n",
       "25%                 0.000000             1.000000      17002.000000   \n",
       "50%                 0.000000             1.000000      21061.000000   \n",
       "75%                 0.001684             2.000000      21064.000000   \n",
       "max                 1.000000             5.000000      21071.000000   \n",
       "\n",
       "       sub_productJuin2021  sectorJuin2021  product_codeJuin2021  \n",
       "count         20750.000000    29956.000000          29956.000000  \n",
       "mean            407.920916     1803.790292          24257.601716  \n",
       "std              44.138990       77.447833           1963.354679  \n",
       "min             306.000000     1690.000000          21113.000000  \n",
       "25%             379.000000     1740.000000          23212.000000  \n",
       "50%             386.000000     1830.000000          23231.000000  \n",
       "75%             462.000000     1890.000000          26111.000000  \n",
       "max             750.000000     1918.000000          51811.000000  \n",
       "\n",
       "[8 rows x 45 columns]"
      ]
     },
     "execution_count": 4,
     "metadata": {},
     "output_type": "execute_result"
    }
   ],
   "source": [
    "data.describe()"
   ]
  },
  {
   "cell_type": "markdown",
   "id": "dc365e52",
   "metadata": {},
   "source": [
    "- All variables related to amount (total/min/max amount, balance, interest rate) are with values ranging from 0 to 1, except for real interest rate (which has a negative minimun value)\n",
    "- There are **29956** entries related to loans."
   ]
  },
  {
   "cell_type": "code",
   "execution_count": 5,
   "id": "413e34e6",
   "metadata": {
    "scrolled": true
   },
   "outputs": [
    {
     "data": {
      "text/plain": [
       "(29956, 50)"
      ]
     },
     "execution_count": 5,
     "metadata": {},
     "output_type": "execute_result"
    }
   ],
   "source": [
    "# Dropping data of customers with no debt\n",
    "data.dropna(axis = 0, subset =['nominal_interestJuin2021', 'nhomno_xhtdJuin2021'], inplace = True)\n",
    "data.shape"
   ]
  },
  {
   "cell_type": "markdown",
   "id": "9cc51566",
   "metadata": {},
   "source": [
    "**29956** rows => no loans entries are omitted. "
   ]
  },
  {
   "cell_type": "code",
   "execution_count": 6,
   "id": "36349816",
   "metadata": {
    "scrolled": true
   },
   "outputs": [
    {
     "data": {
      "text/plain": [
       "gender                            987\n",
       "marital_status                   1074\n",
       "resid_province                   2442\n",
       "resid_district                   2442\n",
       "resid_wards                      2442\n",
       "birth_incorp_date                   1\n",
       " amount_week                    10729\n",
       "max_amount_week                 10729\n",
       "min_amount_week                 10729\n",
       "distinct_payment_code_week      10356\n",
       "count_payment_code_week         10356\n",
       "distinct_trans_group_week       10356\n",
       "distinct_ref_no_week            10356\n",
       "amount_month                     4109\n",
       "max_amount_month                 4109\n",
       "min_amount_month                 4109\n",
       "distinct_payment_code_month      3470\n",
       "count_payment_code_month         3470\n",
       "distinct_trans_group_month       3470\n",
       "distinct_ref_no_month            3470\n",
       "amount_3month                    1044\n",
       "max_amount_3month                1044\n",
       "min_amount_3month                1044\n",
       "distinct_payment_code_3month        0\n",
       "count_payment_code_3month           0\n",
       "distinct_trans_group_3month         0\n",
       "distinct_ref_no_3month              0\n",
       "most_act_mar2021_count           5776\n",
       "most_act_mar2021                 5777\n",
       "total_act_mar2021                5776\n",
       " total_amt_mar2021               5973\n",
       "most_act_juin2021_count          7136\n",
       "most_act_juin2021                7138\n",
       "total_act_juin2021               7136\n",
       "total_amt_juin2021               7384\n",
       "rd_id                               0\n",
       "savingValueMar2021_heoSo        27838\n",
       "savingValueJuin2021_heoSo       27176\n",
       "totalLoginMar2021_heoSo         27083\n",
       "totalLoginJuin2021_heoSo        27044\n",
       "totalSavings2021_heoSo          27043\n",
       "balanceJuin2021                     0\n",
       "nominal_interestJuin2021            0\n",
       "real_interestJuin2021               0\n",
       "nhomno_xhtdJuin2021                 0\n",
       "categoryJuin2021                    0\n",
       "sub_productJuin2021              9206\n",
       "loaikyhanJuin2021                   0\n",
       "sectorJuin2021                      0\n",
       "product_codeJuin2021                0\n",
       "dtype: int64"
      ]
     },
     "execution_count": 6,
     "metadata": {},
     "output_type": "execute_result"
    }
   ],
   "source": [
    "data.isnull().sum()"
   ]
  },
  {
   "cell_type": "code",
   "execution_count": 7,
   "id": "87340dab",
   "metadata": {},
   "outputs": [],
   "source": [
    "# Dropping some variables that may not be useful (continuous)\n",
    "\n",
    "data.drop(columns=['max_amount_week', 'min_amount_week', 'max_amount_month'\n",
    "                   , 'min_amount_month', 'max_amount_3month', 'min_amount_3month'\n",
    "                   , 'distinct_ref_no_week', 'distinct_ref_no_month', 'distinct_ref_no_3month'\n",
    "                   , 'most_act_mar2021_count', 'total_act_mar2021', ' total_amt_mar2021 '\n",
    "                   , 'most_act_juin2021_count', 'total_act_juin2021', 'total_amt_juin2021'\n",
    "                   , 'savingValueMar2021_heoSo', 'savingValueJuin2021_heoSo'\n",
    "                   , 'totalLoginMar2021_heoSo', 'totalLoginJuin2021_heoSo'\n",
    "                   , 'totalSavings2021_heoSo'], inplace=True)"
   ]
  },
  {
   "cell_type": "code",
   "execution_count": 8,
   "id": "ad189134",
   "metadata": {},
   "outputs": [],
   "source": [
    "# Dropping some of the categorical variables\n",
    "\n",
    "data.drop(columns=['resid_province', 'resid_district', 'resid_wards', 'rd_id'\n",
    "                   , 'distinct_payment_code_week', 'distinct_trans_group_week'\n",
    "                   , 'distinct_payment_code_month', 'distinct_trans_group_month'\n",
    "                   , 'distinct_payment_code_3month', 'distinct_trans_group_3month'\n",
    "                   , 'most_act_mar2021', 'most_act_juin2021'\n",
    "                   , 'categoryJuin2021', 'sub_productJuin2021'\n",
    "                   , 'sectorJuin2021', 'product_codeJuin2021'], inplace=True)"
   ]
  },
  {
   "cell_type": "code",
   "execution_count": 9,
   "id": "79fd31c8",
   "metadata": {},
   "outputs": [
    {
     "data": {
      "text/plain": [
       "gender                         987\n",
       "marital_status                1074\n",
       "birth_incorp_date                1\n",
       " amount_week                 10729\n",
       "count_payment_code_week      10356\n",
       "amount_month                  4109\n",
       "count_payment_code_month      3470\n",
       "amount_3month                 1044\n",
       "count_payment_code_3month        0\n",
       "balanceJuin2021                  0\n",
       "nominal_interestJuin2021         0\n",
       "real_interestJuin2021            0\n",
       "nhomno_xhtdJuin2021              0\n",
       "loaikyhanJuin2021                0\n",
       "dtype: int64"
      ]
     },
     "execution_count": 9,
     "metadata": {},
     "output_type": "execute_result"
    }
   ],
   "source": [
    "data.isnull().sum()"
   ]
  },
  {
   "cell_type": "markdown",
   "id": "1d33488e",
   "metadata": {},
   "source": [
    "## Data Pre-processing"
   ]
  },
  {
   "cell_type": "code",
   "execution_count": 10,
   "id": "20bd215e",
   "metadata": {
    "scrolled": true
   },
   "outputs": [
    {
     "data": {
      "text/html": [
       "<div>\n",
       "<style scoped>\n",
       "    .dataframe tbody tr th:only-of-type {\n",
       "        vertical-align: middle;\n",
       "    }\n",
       "\n",
       "    .dataframe tbody tr th {\n",
       "        vertical-align: top;\n",
       "    }\n",
       "\n",
       "    .dataframe thead th {\n",
       "        text-align: right;\n",
       "    }\n",
       "</style>\n",
       "<table border=\"1\" class=\"dataframe\">\n",
       "  <thead>\n",
       "    <tr style=\"text-align: right;\">\n",
       "      <th></th>\n",
       "      <th>gender</th>\n",
       "      <th>marital_status</th>\n",
       "      <th>birth_incorp_date</th>\n",
       "      <th>amount_week</th>\n",
       "      <th>count_payment_code_week</th>\n",
       "      <th>amount_month</th>\n",
       "      <th>count_payment_code_month</th>\n",
       "      <th>amount_3month</th>\n",
       "      <th>count_payment_code_3month</th>\n",
       "      <th>balanceJuin2021</th>\n",
       "      <th>nominal_interestJuin2021</th>\n",
       "      <th>real_interestJuin2021</th>\n",
       "      <th>nhomno_xhtdJuin2021</th>\n",
       "      <th>loaikyhanJuin2021</th>\n",
       "      <th>age</th>\n",
       "    </tr>\n",
       "  </thead>\n",
       "  <tbody>\n",
       "    <tr>\n",
       "      <th>1</th>\n",
       "      <td>MALE</td>\n",
       "      <td>Single</td>\n",
       "      <td>1986.0</td>\n",
       "      <td>NaN</td>\n",
       "      <td>NaN</td>\n",
       "      <td>0.000019</td>\n",
       "      <td>0.0</td>\n",
       "      <td>0.000014</td>\n",
       "      <td>0</td>\n",
       "      <td>0.003666</td>\n",
       "      <td>0.006953</td>\n",
       "      <td>0.004128</td>\n",
       "      <td>1.0</td>\n",
       "      <td>DH</td>\n",
       "      <td>35.0</td>\n",
       "    </tr>\n",
       "    <tr>\n",
       "      <th>7</th>\n",
       "      <td>MALE</td>\n",
       "      <td>Married</td>\n",
       "      <td>1992.0</td>\n",
       "      <td>0.0</td>\n",
       "      <td>0.0</td>\n",
       "      <td>0.000468</td>\n",
       "      <td>0.0</td>\n",
       "      <td>0.000344</td>\n",
       "      <td>2</td>\n",
       "      <td>0.000139</td>\n",
       "      <td>0.000456</td>\n",
       "      <td>0.000000</td>\n",
       "      <td>1.0</td>\n",
       "      <td>NH</td>\n",
       "      <td>29.0</td>\n",
       "    </tr>\n",
       "    <tr>\n",
       "      <th>11</th>\n",
       "      <td>MALE</td>\n",
       "      <td>Married</td>\n",
       "      <td>1987.0</td>\n",
       "      <td>NaN</td>\n",
       "      <td>NaN</td>\n",
       "      <td>0.000031</td>\n",
       "      <td>1.0</td>\n",
       "      <td>0.000028</td>\n",
       "      <td>2</td>\n",
       "      <td>0.012917</td>\n",
       "      <td>0.024721</td>\n",
       "      <td>0.014677</td>\n",
       "      <td>1.0</td>\n",
       "      <td>DH</td>\n",
       "      <td>34.0</td>\n",
       "    </tr>\n",
       "    <tr>\n",
       "      <th>12</th>\n",
       "      <td>MALE</td>\n",
       "      <td>Single</td>\n",
       "      <td>1996.0</td>\n",
       "      <td>0.0</td>\n",
       "      <td>0.0</td>\n",
       "      <td>0.000011</td>\n",
       "      <td>3.0</td>\n",
       "      <td>0.000007</td>\n",
       "      <td>6</td>\n",
       "      <td>0.000000</td>\n",
       "      <td>0.000000</td>\n",
       "      <td>0.000000</td>\n",
       "      <td>1.0</td>\n",
       "      <td>NH</td>\n",
       "      <td>25.0</td>\n",
       "    </tr>\n",
       "    <tr>\n",
       "      <th>14</th>\n",
       "      <td>MALE</td>\n",
       "      <td>Married</td>\n",
       "      <td>1973.0</td>\n",
       "      <td>NaN</td>\n",
       "      <td>NaN</td>\n",
       "      <td>NaN</td>\n",
       "      <td>NaN</td>\n",
       "      <td>0.000092</td>\n",
       "      <td>0</td>\n",
       "      <td>0.026599</td>\n",
       "      <td>0.049072</td>\n",
       "      <td>0.029538</td>\n",
       "      <td>1.0</td>\n",
       "      <td>DH</td>\n",
       "      <td>48.0</td>\n",
       "    </tr>\n",
       "  </tbody>\n",
       "</table>\n",
       "</div>"
      ],
      "text/plain": [
       "   gender marital_status  birth_incorp_date   amount_week   \\\n",
       "1    MALE         Single             1986.0            NaN   \n",
       "7    MALE        Married             1992.0            0.0   \n",
       "11   MALE        Married             1987.0            NaN   \n",
       "12   MALE         Single             1996.0            0.0   \n",
       "14   MALE        Married             1973.0            NaN   \n",
       "\n",
       "    count_payment_code_week  amount_month  count_payment_code_month  \\\n",
       "1                       NaN      0.000019                       0.0   \n",
       "7                       0.0      0.000468                       0.0   \n",
       "11                      NaN      0.000031                       1.0   \n",
       "12                      0.0      0.000011                       3.0   \n",
       "14                      NaN           NaN                       NaN   \n",
       "\n",
       "    amount_3month  count_payment_code_3month  balanceJuin2021  \\\n",
       "1        0.000014                          0         0.003666   \n",
       "7        0.000344                          2         0.000139   \n",
       "11       0.000028                          2         0.012917   \n",
       "12       0.000007                          6         0.000000   \n",
       "14       0.000092                          0         0.026599   \n",
       "\n",
       "    nominal_interestJuin2021  real_interestJuin2021  nhomno_xhtdJuin2021  \\\n",
       "1                   0.006953               0.004128                  1.0   \n",
       "7                   0.000456               0.000000                  1.0   \n",
       "11                  0.024721               0.014677                  1.0   \n",
       "12                  0.000000               0.000000                  1.0   \n",
       "14                  0.049072               0.029538                  1.0   \n",
       "\n",
       "   loaikyhanJuin2021   age  \n",
       "1                 DH  35.0  \n",
       "7                 NH  29.0  \n",
       "11                DH  34.0  \n",
       "12                NH  25.0  \n",
       "14                DH  48.0  "
      ]
     },
     "execution_count": 10,
     "metadata": {},
     "output_type": "execute_result"
    }
   ],
   "source": [
    "data['age'] = 2021 - data['birth_incorp_date']\n",
    "data.head()"
   ]
  },
  {
   "cell_type": "code",
   "execution_count": 11,
   "id": "8d4b9760",
   "metadata": {
    "scrolled": false
   },
   "outputs": [
    {
     "name": "stdout",
     "output_type": "stream",
     "text": [
      "gender: ['MALE' 'FEMALE' nan]\n",
      "marital_status: ['Single' 'Married' nan 'Partner' 'Other' 'Seperated' 'Divorced' 'Widow']\n",
      "birth_incorp_date: [1986. 1992. 1987. 1996. 1973. 1975. 1991. 1995. 1969. 1978. 1981. 1982.\n",
      " 1985. 1983. 1977. 1989. 1997. 1990. 1994. 1984. 1993. 1988. 1971. 1976.\n",
      " 1979. 1967. 1966. 1962. 1980. 1968. 2002. 1958. 1974. 1972. 1970. 1964.\n",
      " 1960. 1965. 1998. 1963. 1956. 1959. 1957. 1999. 1955. 1961. 2000. 1779.\n",
      " 2009. 2010.   nan 1954. 2003. 2001. 1951. 2011.]\n",
      " amount_week : [ nan 0.   0.04 0.02 0.01 0.16 0.17 0.05 0.03 0.15 0.19 0.08 0.09 0.06\n",
      " 0.24 0.1  0.07 0.13 0.11]\n",
      "count_payment_code_week: [ nan   0.   1.   2.   3.   4.   8.   5.  11.   9.  10.   6.  15.  28.\n",
      "   7.  40.  20. 132.  16.  17.  21.  82.  23.  29.  14. 182.  19.  27.\n",
      "  12.  24.  43.  13.]\n",
      "amount_month: [1.910000e-05 4.675950e-04 3.150000e-05 ... 3.471996e-03 1.420880e-04\n",
      " 7.170000e-06]\n",
      "count_payment_code_month: [  0.   1.   3.  nan   2.   4.   6.   8.   7.   5.  25.   9.  12.  28.\n",
      "  11.  24.  10.  20.  14.  26.  15.  13.  16.  17.  18.  19. 390.  29.\n",
      "  27. 136.  45.  21.  23.  35.  50.  37.  42. 209.  74.  64.  57. 206.\n",
      " 127.  31.  46.  30.  49.  22.  51. 346.  32.  48.  34. 134.  99.]\n",
      "amount_3month: [1.380000e-05 3.435940e-04 2.760000e-05 ... 5.930520e-04 1.223876e-03\n",
      " 9.690000e-06]\n",
      "count_payment_code_3month: [  0   2   6   4   3   9   1   7  10  19  11  17  18   5  13  12  15  44\n",
      "  31   8  24  34  39  14  22  21  27  28  26  29  16  23  25  20  37  59\n",
      "  36  40  42  32  53  45  30  49 119  43 394  47  35  38  64 142  52  41\n",
      "  63  33  46  50  72  48  57  67  70  62  54 222 267  51  60  65  73 152\n",
      "  55 221 189  84  82  71  74 347  58  75  66 144  95 135 206]\n",
      "balanceJuin2021: [0.0036659  0.00013912 0.01291706 ... 0.00127074 0.02062532 0.00274958]\n",
      "nominal_interestJuin2021: [0.00695269 0.00045576 0.02472102 ... 0.00370273 0.02880484 0.00426666]\n",
      "real_interestJuin2021: [0.00412774 0.         0.01467662 ... 0.00219827 0.01710114 0.00253308]\n",
      "nhomno_xhtdJuin2021: [1. 2. 3. 4. 5.]\n",
      "loaikyhanJuin2021: ['DH' 'NH' 'TH']\n",
      "age: [ 35.  29.  34.  25.  48.  46.  30.  26.  52.  43.  40.  39.  36.  38.\n",
      "  44.  32.  24.  31.  27.  37.  28.  33.  50.  45.  42.  54.  55.  59.\n",
      "  41.  53.  19.  63.  47.  49.  51.  57.  61.  56.  23.  58.  65.  62.\n",
      "  64.  22.  66.  60.  21. 242.  12.  11.  nan  67.  18.  20.  70.  10.]\n"
     ]
    }
   ],
   "source": [
    "for column in data:\n",
    "                print(f'{column}: {data[column].unique()}')"
   ]
  },
  {
   "cell_type": "code",
   "execution_count": 12,
   "id": "c32a5c96",
   "metadata": {
    "scrolled": false
   },
   "outputs": [
    {
     "data": {
      "text/html": [
       "<div>\n",
       "<style scoped>\n",
       "    .dataframe tbody tr th:only-of-type {\n",
       "        vertical-align: middle;\n",
       "    }\n",
       "\n",
       "    .dataframe tbody tr th {\n",
       "        vertical-align: top;\n",
       "    }\n",
       "\n",
       "    .dataframe thead th {\n",
       "        text-align: right;\n",
       "    }\n",
       "</style>\n",
       "<table border=\"1\" class=\"dataframe\">\n",
       "  <thead>\n",
       "    <tr style=\"text-align: right;\">\n",
       "      <th></th>\n",
       "      <th>gender</th>\n",
       "      <th>marital_status</th>\n",
       "      <th>birth_incorp_date</th>\n",
       "      <th>amount_week</th>\n",
       "      <th>count_payment_code_week</th>\n",
       "      <th>amount_month</th>\n",
       "      <th>count_payment_code_month</th>\n",
       "      <th>amount_3month</th>\n",
       "      <th>count_payment_code_3month</th>\n",
       "      <th>balanceJuin2021</th>\n",
       "      <th>nominal_interestJuin2021</th>\n",
       "      <th>real_interestJuin2021</th>\n",
       "      <th>nhomno_xhtdJuin2021</th>\n",
       "      <th>loaikyhanJuin2021</th>\n",
       "      <th>age</th>\n",
       "    </tr>\n",
       "  </thead>\n",
       "  <tbody>\n",
       "    <tr>\n",
       "      <th>18897</th>\n",
       "      <td>MALE</td>\n",
       "      <td>Married</td>\n",
       "      <td>1779.0</td>\n",
       "      <td>0.0</td>\n",
       "      <td>3.0</td>\n",
       "      <td>0.000244</td>\n",
       "      <td>11.0</td>\n",
       "      <td>0.000145</td>\n",
       "      <td>28</td>\n",
       "      <td>0.028422</td>\n",
       "      <td>0.059295</td>\n",
       "      <td>0.035203</td>\n",
       "      <td>1.0</td>\n",
       "      <td>DH</td>\n",
       "      <td>242.0</td>\n",
       "    </tr>\n",
       "  </tbody>\n",
       "</table>\n",
       "</div>"
      ],
      "text/plain": [
       "      gender marital_status  birth_incorp_date   amount_week   \\\n",
       "18897   MALE        Married             1779.0            0.0   \n",
       "\n",
       "       count_payment_code_week  amount_month  count_payment_code_month  \\\n",
       "18897                      3.0      0.000244                      11.0   \n",
       "\n",
       "       amount_3month  count_payment_code_3month  balanceJuin2021  \\\n",
       "18897       0.000145                         28         0.028422   \n",
       "\n",
       "       nominal_interestJuin2021  real_interestJuin2021  nhomno_xhtdJuin2021  \\\n",
       "18897                  0.059295               0.035203                  1.0   \n",
       "\n",
       "      loaikyhanJuin2021    age  \n",
       "18897                DH  242.0  "
      ]
     },
     "execution_count": 12,
     "metadata": {},
     "output_type": "execute_result"
    }
   ],
   "source": [
    "data[data['age']==242]"
   ]
  },
  {
   "cell_type": "code",
   "execution_count": 13,
   "id": "6fd08aaf",
   "metadata": {},
   "outputs": [
    {
     "data": {
      "text/html": [
       "<div>\n",
       "<style scoped>\n",
       "    .dataframe tbody tr th:only-of-type {\n",
       "        vertical-align: middle;\n",
       "    }\n",
       "\n",
       "    .dataframe tbody tr th {\n",
       "        vertical-align: top;\n",
       "    }\n",
       "\n",
       "    .dataframe thead th {\n",
       "        text-align: right;\n",
       "    }\n",
       "</style>\n",
       "<table border=\"1\" class=\"dataframe\">\n",
       "  <thead>\n",
       "    <tr style=\"text-align: right;\">\n",
       "      <th></th>\n",
       "      <th>gender</th>\n",
       "      <th>marital_status</th>\n",
       "      <th>birth_incorp_date</th>\n",
       "      <th>amount_week</th>\n",
       "      <th>count_payment_code_week</th>\n",
       "      <th>amount_month</th>\n",
       "      <th>count_payment_code_month</th>\n",
       "      <th>amount_3month</th>\n",
       "      <th>count_payment_code_3month</th>\n",
       "      <th>balanceJuin2021</th>\n",
       "      <th>nominal_interestJuin2021</th>\n",
       "      <th>real_interestJuin2021</th>\n",
       "      <th>nhomno_xhtdJuin2021</th>\n",
       "      <th>loaikyhanJuin2021</th>\n",
       "      <th>age</th>\n",
       "    </tr>\n",
       "  </thead>\n",
       "  <tbody>\n",
       "    <tr>\n",
       "      <th>92519</th>\n",
       "      <td>MALE</td>\n",
       "      <td>Married</td>\n",
       "      <td>2011.0</td>\n",
       "      <td>NaN</td>\n",
       "      <td>NaN</td>\n",
       "      <td>NaN</td>\n",
       "      <td>NaN</td>\n",
       "      <td>8.680000e-07</td>\n",
       "      <td>0</td>\n",
       "      <td>0.000192</td>\n",
       "      <td>0.000361</td>\n",
       "      <td>0.000293</td>\n",
       "      <td>2.0</td>\n",
       "      <td>TH</td>\n",
       "      <td>10.0</td>\n",
       "    </tr>\n",
       "  </tbody>\n",
       "</table>\n",
       "</div>"
      ],
      "text/plain": [
       "      gender marital_status  birth_incorp_date   amount_week   \\\n",
       "92519   MALE        Married             2011.0            NaN   \n",
       "\n",
       "       count_payment_code_week  amount_month  count_payment_code_month  \\\n",
       "92519                      NaN           NaN                       NaN   \n",
       "\n",
       "       amount_3month  count_payment_code_3month  balanceJuin2021  \\\n",
       "92519   8.680000e-07                          0         0.000192   \n",
       "\n",
       "       nominal_interestJuin2021  real_interestJuin2021  nhomno_xhtdJuin2021  \\\n",
       "92519                  0.000361               0.000293                  2.0   \n",
       "\n",
       "      loaikyhanJuin2021   age  \n",
       "92519                TH  10.0  "
      ]
     },
     "execution_count": 13,
     "metadata": {},
     "output_type": "execute_result"
    }
   ],
   "source": [
    "data[data['age']==10]"
   ]
  },
  {
   "cell_type": "code",
   "execution_count": 14,
   "id": "585a0cf7",
   "metadata": {},
   "outputs": [
    {
     "data": {
      "text/html": [
       "<div>\n",
       "<style scoped>\n",
       "    .dataframe tbody tr th:only-of-type {\n",
       "        vertical-align: middle;\n",
       "    }\n",
       "\n",
       "    .dataframe tbody tr th {\n",
       "        vertical-align: top;\n",
       "    }\n",
       "\n",
       "    .dataframe thead th {\n",
       "        text-align: right;\n",
       "    }\n",
       "</style>\n",
       "<table border=\"1\" class=\"dataframe\">\n",
       "  <thead>\n",
       "    <tr style=\"text-align: right;\">\n",
       "      <th></th>\n",
       "      <th>gender</th>\n",
       "      <th>marital_status</th>\n",
       "      <th>birth_incorp_date</th>\n",
       "      <th>amount_week</th>\n",
       "      <th>count_payment_code_week</th>\n",
       "      <th>amount_month</th>\n",
       "      <th>count_payment_code_month</th>\n",
       "      <th>amount_3month</th>\n",
       "      <th>count_payment_code_3month</th>\n",
       "      <th>balanceJuin2021</th>\n",
       "      <th>nominal_interestJuin2021</th>\n",
       "      <th>real_interestJuin2021</th>\n",
       "      <th>nhomno_xhtdJuin2021</th>\n",
       "      <th>loaikyhanJuin2021</th>\n",
       "      <th>age</th>\n",
       "    </tr>\n",
       "  </thead>\n",
       "  <tbody>\n",
       "    <tr>\n",
       "      <th>32619</th>\n",
       "      <td>NaN</td>\n",
       "      <td>NaN</td>\n",
       "      <td>2010.0</td>\n",
       "      <td>0.0</td>\n",
       "      <td>0.0</td>\n",
       "      <td>0.000286</td>\n",
       "      <td>1.0</td>\n",
       "      <td>0.000502</td>\n",
       "      <td>3</td>\n",
       "      <td>0.004316</td>\n",
       "      <td>0.011832</td>\n",
       "      <td>0.007025</td>\n",
       "      <td>1.0</td>\n",
       "      <td>TH</td>\n",
       "      <td>11.0</td>\n",
       "    </tr>\n",
       "  </tbody>\n",
       "</table>\n",
       "</div>"
      ],
      "text/plain": [
       "      gender marital_status  birth_incorp_date   amount_week   \\\n",
       "32619    NaN            NaN             2010.0            0.0   \n",
       "\n",
       "       count_payment_code_week  amount_month  count_payment_code_month  \\\n",
       "32619                      0.0      0.000286                       1.0   \n",
       "\n",
       "       amount_3month  count_payment_code_3month  balanceJuin2021  \\\n",
       "32619       0.000502                          3         0.004316   \n",
       "\n",
       "       nominal_interestJuin2021  real_interestJuin2021  nhomno_xhtdJuin2021  \\\n",
       "32619                  0.011832               0.007025                  1.0   \n",
       "\n",
       "      loaikyhanJuin2021   age  \n",
       "32619                TH  11.0  "
      ]
     },
     "execution_count": 14,
     "metadata": {},
     "output_type": "execute_result"
    }
   ],
   "source": [
    "data[data['age']==11]"
   ]
  },
  {
   "cell_type": "code",
   "execution_count": 15,
   "id": "3c5c9666",
   "metadata": {
    "scrolled": false
   },
   "outputs": [
    {
     "data": {
      "text/html": [
       "<div>\n",
       "<style scoped>\n",
       "    .dataframe tbody tr th:only-of-type {\n",
       "        vertical-align: middle;\n",
       "    }\n",
       "\n",
       "    .dataframe tbody tr th {\n",
       "        vertical-align: top;\n",
       "    }\n",
       "\n",
       "    .dataframe thead th {\n",
       "        text-align: right;\n",
       "    }\n",
       "</style>\n",
       "<table border=\"1\" class=\"dataframe\">\n",
       "  <thead>\n",
       "    <tr style=\"text-align: right;\">\n",
       "      <th></th>\n",
       "      <th>gender</th>\n",
       "      <th>marital_status</th>\n",
       "      <th>birth_incorp_date</th>\n",
       "      <th>amount_week</th>\n",
       "      <th>count_payment_code_week</th>\n",
       "      <th>amount_month</th>\n",
       "      <th>count_payment_code_month</th>\n",
       "      <th>amount_3month</th>\n",
       "      <th>count_payment_code_3month</th>\n",
       "      <th>balanceJuin2021</th>\n",
       "      <th>nominal_interestJuin2021</th>\n",
       "      <th>real_interestJuin2021</th>\n",
       "      <th>nhomno_xhtdJuin2021</th>\n",
       "      <th>loaikyhanJuin2021</th>\n",
       "      <th>age</th>\n",
       "    </tr>\n",
       "  </thead>\n",
       "  <tbody>\n",
       "    <tr>\n",
       "      <th>23914</th>\n",
       "      <td>FEMALE</td>\n",
       "      <td>Single</td>\n",
       "      <td>2009.0</td>\n",
       "      <td>0.01</td>\n",
       "      <td>0.0</td>\n",
       "      <td>0.005347</td>\n",
       "      <td>4.0</td>\n",
       "      <td>0.002643</td>\n",
       "      <td>4</td>\n",
       "      <td>0.0</td>\n",
       "      <td>0.0</td>\n",
       "      <td>0.0</td>\n",
       "      <td>1.0</td>\n",
       "      <td>NH</td>\n",
       "      <td>12.0</td>\n",
       "    </tr>\n",
       "  </tbody>\n",
       "</table>\n",
       "</div>"
      ],
      "text/plain": [
       "       gender marital_status  birth_incorp_date   amount_week   \\\n",
       "23914  FEMALE         Single             2009.0           0.01   \n",
       "\n",
       "       count_payment_code_week  amount_month  count_payment_code_month  \\\n",
       "23914                      0.0      0.005347                       4.0   \n",
       "\n",
       "       amount_3month  count_payment_code_3month  balanceJuin2021  \\\n",
       "23914       0.002643                          4              0.0   \n",
       "\n",
       "       nominal_interestJuin2021  real_interestJuin2021  nhomno_xhtdJuin2021  \\\n",
       "23914                       0.0                    0.0                  1.0   \n",
       "\n",
       "      loaikyhanJuin2021   age  \n",
       "23914                NH  12.0  "
      ]
     },
     "execution_count": 15,
     "metadata": {},
     "output_type": "execute_result"
    }
   ],
   "source": [
    "data[data['age']==12]"
   ]
  },
  {
   "cell_type": "markdown",
   "id": "0512dcb5",
   "metadata": {},
   "source": [
    "<div class=\"alert alert-info\" style=\"margin-top: 20px\">\n",
    "\n",
    "The age limit for bank loans is regulated at all banks to range from 18 years old to 65 years old for men and 60 years old for women. To that end, given these observations, we decided to replace them with the median age."
   ]
  },
  {
   "cell_type": "code",
   "execution_count": 16,
   "id": "2f4af2ce",
   "metadata": {},
   "outputs": [
    {
     "data": {
      "text/plain": [
       "array([35., 29., 34., 25., 48., 46., 30., 26., 52., 43., 40., 39., 36.,\n",
       "       38., 44., 32., 24., 31., 27., 37., 28., 33., 50., 45., 42., 54.,\n",
       "       55., 59., 41., 53., 19., 63., 47., 49., 51., 57., 61., 56., 23.,\n",
       "       58., 65., 62., 64., 22., 66., 60., 21., 67., 18., 20., 70.])"
      ]
     },
     "execution_count": 16,
     "metadata": {},
     "output_type": "execute_result"
    }
   ],
   "source": [
    "data['age'] = data['age'].replace(to_replace=[10,11,12,242], value=data['age'].median())\n",
    "data['age'] = data['age'].fillna(data['age'].median())\n",
    "\n",
    "data.drop(['birth_incorp_date'], axis='columns', inplace=True)\n",
    "data['age'].unique()"
   ]
  },
  {
   "cell_type": "code",
   "execution_count": 17,
   "id": "58e3e10c",
   "metadata": {
    "scrolled": true
   },
   "outputs": [],
   "source": [
    "# Refilling marital status (taking into account only 5 status: Single, Married, Divorced, Widowed, and Other)\n",
    "\n",
    "data['marital_status'].replace(['Partner', 'Seperated','Widow'], \n",
    "                               ['Other', 'Divorced', 'Widowed'], inplace=True)\n",
    "\n",
    "# Filling missing values in gender and marital status\n",
    "values = {\"marital_status\": 'Other', \"gender\": 'NONE'}\n",
    "data.fillna(value=values, inplace=True)"
   ]
  },
  {
   "cell_type": "code",
   "execution_count": 18,
   "id": "e055cb9d",
   "metadata": {
    "scrolled": true
   },
   "outputs": [
    {
     "data": {
      "text/html": [
       "<div>\n",
       "<style scoped>\n",
       "    .dataframe tbody tr th:only-of-type {\n",
       "        vertical-align: middle;\n",
       "    }\n",
       "\n",
       "    .dataframe tbody tr th {\n",
       "        vertical-align: top;\n",
       "    }\n",
       "\n",
       "    .dataframe thead th {\n",
       "        text-align: right;\n",
       "    }\n",
       "</style>\n",
       "<table border=\"1\" class=\"dataframe\">\n",
       "  <thead>\n",
       "    <tr style=\"text-align: right;\">\n",
       "      <th></th>\n",
       "      <th>gender</th>\n",
       "      <th>marital_status</th>\n",
       "      <th>count_payment_code_week</th>\n",
       "      <th>count_payment_code_month</th>\n",
       "      <th>count_payment_code_3month</th>\n",
       "      <th>balanceJuin2021</th>\n",
       "      <th>nominal_interestJuin2021</th>\n",
       "      <th>real_interestJuin2021</th>\n",
       "      <th>nhomno_xhtdJuin2021</th>\n",
       "      <th>loaikyhanJuin2021</th>\n",
       "      <th>age</th>\n",
       "      <th>past_week</th>\n",
       "      <th>past_month</th>\n",
       "      <th>past_3months</th>\n",
       "    </tr>\n",
       "  </thead>\n",
       "  <tbody>\n",
       "    <tr>\n",
       "      <th>1</th>\n",
       "      <td>MALE</td>\n",
       "      <td>Single</td>\n",
       "      <td>0.0</td>\n",
       "      <td>0.0</td>\n",
       "      <td>0</td>\n",
       "      <td>0.003666</td>\n",
       "      <td>0.006953</td>\n",
       "      <td>0.004128</td>\n",
       "      <td>1.0</td>\n",
       "      <td>DH</td>\n",
       "      <td>35.0</td>\n",
       "      <td>0.0</td>\n",
       "      <td>1.0</td>\n",
       "      <td>0.0</td>\n",
       "    </tr>\n",
       "    <tr>\n",
       "      <th>7</th>\n",
       "      <td>MALE</td>\n",
       "      <td>Married</td>\n",
       "      <td>0.0</td>\n",
       "      <td>0.0</td>\n",
       "      <td>2</td>\n",
       "      <td>0.000139</td>\n",
       "      <td>0.000456</td>\n",
       "      <td>0.000000</td>\n",
       "      <td>1.0</td>\n",
       "      <td>NH</td>\n",
       "      <td>29.0</td>\n",
       "      <td>1.0</td>\n",
       "      <td>0.0</td>\n",
       "      <td>0.0</td>\n",
       "    </tr>\n",
       "    <tr>\n",
       "      <th>11</th>\n",
       "      <td>MALE</td>\n",
       "      <td>Married</td>\n",
       "      <td>0.0</td>\n",
       "      <td>1.0</td>\n",
       "      <td>2</td>\n",
       "      <td>0.012917</td>\n",
       "      <td>0.024721</td>\n",
       "      <td>0.014677</td>\n",
       "      <td>1.0</td>\n",
       "      <td>DH</td>\n",
       "      <td>34.0</td>\n",
       "      <td>0.0</td>\n",
       "      <td>1.0</td>\n",
       "      <td>0.0</td>\n",
       "    </tr>\n",
       "    <tr>\n",
       "      <th>12</th>\n",
       "      <td>MALE</td>\n",
       "      <td>Single</td>\n",
       "      <td>0.0</td>\n",
       "      <td>3.0</td>\n",
       "      <td>6</td>\n",
       "      <td>0.000000</td>\n",
       "      <td>0.000000</td>\n",
       "      <td>0.000000</td>\n",
       "      <td>1.0</td>\n",
       "      <td>NH</td>\n",
       "      <td>25.0</td>\n",
       "      <td>1.0</td>\n",
       "      <td>0.0</td>\n",
       "      <td>0.0</td>\n",
       "    </tr>\n",
       "    <tr>\n",
       "      <th>14</th>\n",
       "      <td>MALE</td>\n",
       "      <td>Married</td>\n",
       "      <td>0.0</td>\n",
       "      <td>0.0</td>\n",
       "      <td>0</td>\n",
       "      <td>0.026599</td>\n",
       "      <td>0.049072</td>\n",
       "      <td>0.029538</td>\n",
       "      <td>1.0</td>\n",
       "      <td>DH</td>\n",
       "      <td>48.0</td>\n",
       "      <td>0.0</td>\n",
       "      <td>0.0</td>\n",
       "      <td>1.0</td>\n",
       "    </tr>\n",
       "  </tbody>\n",
       "</table>\n",
       "</div>"
      ],
      "text/plain": [
       "   gender marital_status  count_payment_code_week  count_payment_code_month  \\\n",
       "1    MALE         Single                      0.0                       0.0   \n",
       "7    MALE        Married                      0.0                       0.0   \n",
       "11   MALE        Married                      0.0                       1.0   \n",
       "12   MALE         Single                      0.0                       3.0   \n",
       "14   MALE        Married                      0.0                       0.0   \n",
       "\n",
       "    count_payment_code_3month  balanceJuin2021  nominal_interestJuin2021  \\\n",
       "1                           0         0.003666                  0.006953   \n",
       "7                           2         0.000139                  0.000456   \n",
       "11                          2         0.012917                  0.024721   \n",
       "12                          6         0.000000                  0.000000   \n",
       "14                          0         0.026599                  0.049072   \n",
       "\n",
       "    real_interestJuin2021  nhomno_xhtdJuin2021 loaikyhanJuin2021   age  \\\n",
       "1                0.004128                  1.0                DH  35.0   \n",
       "7                0.000000                  1.0                NH  29.0   \n",
       "11               0.014677                  1.0                DH  34.0   \n",
       "12               0.000000                  1.0                NH  25.0   \n",
       "14               0.029538                  1.0                DH  48.0   \n",
       "\n",
       "    past_week  past_month  past_3months  \n",
       "1         0.0         1.0           0.0  \n",
       "7         1.0         0.0           0.0  \n",
       "11        0.0         1.0           0.0  \n",
       "12        1.0         0.0           0.0  \n",
       "14        0.0         0.0           1.0  "
      ]
     },
     "execution_count": 18,
     "metadata": {},
     "output_type": "execute_result"
    }
   ],
   "source": [
    "# New columns indicating the most recent transaction of the customer\n",
    "\n",
    "data.loc[((data[' amount_week '].notnull()) & (data['amount_month'].notnull()) & (data['amount_3month'].notnull()))\n",
    "          , 'past_week'] = 1\n",
    "data.loc[((data[' amount_week '].isnull()) & (data['amount_month'].notnull()) & (data['amount_3month'].notnull()))\n",
    "          , 'past_month'] = 1\n",
    "data.loc[((data[' amount_week '].isnull()) & (data['amount_month'].isnull()) & (data['amount_3month'].notnull()))\n",
    "         , 'past_3months'] = 1\n",
    "\n",
    "data.fillna(0, inplace=True)\n",
    "data.drop([' amount_week ', 'amount_month', 'amount_3month'], axis='columns', inplace=True)\n",
    "data.head()"
   ]
  },
  {
   "cell_type": "code",
   "execution_count": 19,
   "id": "2d874832",
   "metadata": {
    "scrolled": true
   },
   "outputs": [
    {
     "data": {
      "text/plain": [
       "gender                       0\n",
       "marital_status               0\n",
       "count_payment_code_week      0\n",
       "count_payment_code_month     0\n",
       "count_payment_code_3month    0\n",
       "balanceJuin2021              0\n",
       "nominal_interestJuin2021     0\n",
       "real_interestJuin2021        0\n",
       "nhomno_xhtdJuin2021          0\n",
       "loaikyhanJuin2021            0\n",
       "age                          0\n",
       "past_week                    0\n",
       "past_month                   0\n",
       "past_3months                 0\n",
       "dtype: int64"
      ]
     },
     "execution_count": 19,
     "metadata": {},
     "output_type": "execute_result"
    }
   ],
   "source": [
    "data.isnull().sum()"
   ]
  },
  {
   "cell_type": "code",
   "execution_count": 20,
   "id": "c477480d",
   "metadata": {},
   "outputs": [
    {
     "name": "stdout",
     "output_type": "stream",
     "text": [
      "<class 'pandas.core.frame.DataFrame'>\n",
      "Int64Index: 29956 entries, 1 to 99993\n",
      "Data columns (total 14 columns):\n",
      " #   Column                     Non-Null Count  Dtype  \n",
      "---  ------                     --------------  -----  \n",
      " 0   gender                     29956 non-null  object \n",
      " 1   marital_status             29956 non-null  object \n",
      " 2   count_payment_code_week    29956 non-null  float64\n",
      " 3   count_payment_code_month   29956 non-null  float64\n",
      " 4   count_payment_code_3month  29956 non-null  int64  \n",
      " 5   balanceJuin2021            29956 non-null  float64\n",
      " 6   nominal_interestJuin2021   29956 non-null  float64\n",
      " 7   real_interestJuin2021      29956 non-null  float64\n",
      " 8   nhomno_xhtdJuin2021        29956 non-null  float64\n",
      " 9   loaikyhanJuin2021          29956 non-null  object \n",
      " 10  age                        29956 non-null  float64\n",
      " 11  past_week                  29956 non-null  float64\n",
      " 12  past_month                 29956 non-null  float64\n",
      " 13  past_3months               29956 non-null  float64\n",
      "dtypes: float64(10), int64(1), object(3)\n",
      "memory usage: 3.4+ MB\n"
     ]
    }
   ],
   "source": [
    "data.info()"
   ]
  },
  {
   "cell_type": "markdown",
   "id": "c55498bc",
   "metadata": {},
   "source": [
    "## Exploratory Data Analysis"
   ]
  },
  {
   "cell_type": "code",
   "execution_count": 21,
   "id": "da2a004f",
   "metadata": {},
   "outputs": [
    {
     "data": {
      "text/plain": [
       "<seaborn.axisgrid.PairGrid at 0x1468d8b3d00>"
      ]
     },
     "execution_count": 21,
     "metadata": {},
     "output_type": "execute_result"
    },
    {
     "data": {
      "image/png": "[encoded data removed]",
      "text/plain": [
       "<Figure size 601.25x540 with 12 Axes>"
      ]
     },
     "metadata": {
      "needs_background": "light"
     },
     "output_type": "display_data"
    }
   ],
   "source": [
    "# Create a column with boolean values for incredibility\n",
    "data['incredible'] = data['nhomno_xhtdJuin2021'] >= 3\n",
    "data.drop(['nhomno_xhtdJuin2021'], axis='columns', inplace=True)\n",
    "\n",
    "# Pairplots for continuous variables ranging from 0 to 1\n",
    "sns.pairplot(data=data[['balanceJuin2021', 'nominal_interestJuin2021'\n",
    "                        , 'real_interestJuin2021', 'incredible']]\n",
    "             , hue='incredible')"
   ]
  },
  {
   "cell_type": "code",
   "execution_count": 22,
   "id": "67577aee",
   "metadata": {},
   "outputs": [
    {
     "data": {
      "text/plain": [
       "<seaborn.axisgrid.PairGrid at 0x1468ee66040>"
      ]
     },
     "execution_count": 22,
     "metadata": {},
     "output_type": "execute_result"
    },
    {
     "data": {
      "image/png": "[encoded data removed]",
      "text/plain": [
       "<Figure size 601.25x540 with 12 Axes>"
      ]
     },
     "metadata": {
      "needs_background": "light"
     },
     "output_type": "display_data"
    }
   ],
   "source": [
    "# A closer look (setting the limit of the x axis to reach 0.05 only)\n",
    "\n",
    "sns.pairplot(data=data[['balanceJuin2021', 'nominal_interestJuin2021'\n",
    "                        , 'real_interestJuin2021', 'incredible']]\n",
    "             , hue='incredible').set(xlim=(-0.01,0.05))"
   ]
  },
  {
   "cell_type": "markdown",
   "id": "e247441d",
   "metadata": {},
   "source": [
    "Considering both groups with good and bad loans, the observations predominantly concentrated at the value 0."
   ]
  },
  {
   "cell_type": "code",
   "execution_count": 23,
   "id": "83fd2584",
   "metadata": {
    "scrolled": false
   },
   "outputs": [
    {
     "data": {
      "text/plain": [
       "<AxesSubplot:xlabel='balanceJuin2021', ylabel='Density'>"
      ]
     },
     "execution_count": 23,
     "metadata": {},
     "output_type": "execute_result"
    },
    {
     "data": {
      "image/png": "[encoded data removed]",
      "text/plain": [
       "<Figure size 720x504 with 1 Axes>"
      ]
     },
     "metadata": {
      "needs_background": "light"
     },
     "output_type": "display_data"
    }
   ],
   "source": [
    "plt.figure(figsize=(10, 7))\n",
    "sns.kdeplot('balanceJuin2021', hue='incredible'\n",
    "            , hue_order=[True, False], data=data)"
   ]
  },
  {
   "cell_type": "markdown",
   "id": "63230d96",
   "metadata": {},
   "source": [
    "**Good loans in orange, bad loans in blue**\n",
    "* The balance in June of customers with bad loans ranges from 0 to 0.2. That of customers with good loans ranges all the way to 1.\n",
    "* Although the number of loans classified as bad only contributes to more than one-fifth of the total number of loans, a signficantly large number of customers with bad loans were observed with the minimum balance (=0)."
   ]
  },
  {
   "cell_type": "code",
   "execution_count": 24,
   "id": "686a5f7f",
   "metadata": {
    "scrolled": false
   },
   "outputs": [
    {
     "data": {
      "text/plain": [
       "<AxesSubplot:xlabel='nominal_interestJuin2021', ylabel='Density'>"
      ]
     },
     "execution_count": 24,
     "metadata": {},
     "output_type": "execute_result"
    },
    {
     "data": {
      "image/png": "[encoded data removed]",
      "text/plain": [
       "<Figure size 720x504 with 1 Axes>"
      ]
     },
     "metadata": {
      "needs_background": "light"
     },
     "output_type": "display_data"
    }
   ],
   "source": [
    "plt.figure(figsize=(10, 7))\n",
    "sns.kdeplot('nominal_interestJuin2021', hue='incredible'\n",
    "            , hue_order=[True, False], data=data)"
   ]
  },
  {
   "cell_type": "code",
   "execution_count": 25,
   "id": "3dbab114",
   "metadata": {},
   "outputs": [
    {
     "data": {
      "text/plain": [
       "<AxesSubplot:xlabel='real_interestJuin2021', ylabel='Density'>"
      ]
     },
     "execution_count": 25,
     "metadata": {},
     "output_type": "execute_result"
    },
    {
     "data": {
      "image/png": "[encoded data removed]",
      "text/plain": [
       "<Figure size 720x504 with 1 Axes>"
      ]
     },
     "metadata": {
      "needs_background": "light"
     },
     "output_type": "display_data"
    }
   ],
   "source": [
    "plt.figure(figsize=(10, 7))\n",
    "sns.kdeplot('real_interestJuin2021', hue='incredible'\n",
    "            , hue_order=[True, False], data=data)"
   ]
  },
  {
   "cell_type": "code",
   "execution_count": 26,
   "id": "e4f3e55a",
   "metadata": {},
   "outputs": [
    {
     "data": {
      "text/plain": [
       "<AxesSubplot:xlabel='real_interestJuin2021', ylabel='Density'>"
      ]
     },
     "execution_count": 26,
     "metadata": {},
     "output_type": "execute_result"
    },
    {
     "data": {
      "image/png": "[encoded data removed]",
      "text/plain": [
       "<Figure size 432x288 with 1 Axes>"
      ]
     },
     "metadata": {
      "needs_background": "light"
     },
     "output_type": "display_data"
    }
   ],
   "source": [
    "sns.kdeplot(data[data['real_interestJuin2021']<0]['real_interestJuin2021']\n",
    "            , hue=data['incredible'], hue_order=[False, True])\n",
    "\n",
    "# Good loans in blue, bad loans in orange"
   ]
  },
  {
   "cell_type": "markdown",
   "id": "4d2fe4ee",
   "metadata": {},
   "source": [
    "* The nominal interest rate assigned for customers with bad loans ranges from 0 to 0.4. That of customers with good loans ranges all the way to 1.\n",
    "* The real interest rate for customers with bad loans ranges from -0.15 to around 0.25. That of customers with good loans ranges from -0.1 all the way to 1."
   ]
  },
  {
   "cell_type": "code",
   "execution_count": 27,
   "id": "b216f9b2",
   "metadata": {
    "scrolled": false
   },
   "outputs": [
    {
     "data": {
      "image/png": "[encoded data removed]",
      "text/plain": [
       "<Figure size 1080x432 with 3 Axes>"
      ]
     },
     "metadata": {
      "needs_background": "light"
     },
     "output_type": "display_data"
    }
   ],
   "source": [
    "# Distribution of count payment code variables (BEFORE filling missing values)\n",
    "\n",
    "plt.figure(1, figsize=(15,6))\n",
    "n=0\n",
    "for x in ['count_payment_code_week', 'count_payment_code_month', 'count_payment_code_3month']:\n",
    "    n += 1\n",
    "    plt.subplot(1, 3, n)\n",
    "    plt.subplots_adjust(hspace = 0.5, wspace = 0.5)\n",
    "    sns.kdeplot(data[x], hue=data['incredible'])\n",
    "    plt.title('Displot of {}'.format(x))\n",
    "plt.show()"
   ]
  },
  {
   "cell_type": "code",
   "execution_count": 28,
   "id": "83bfe38d",
   "metadata": {},
   "outputs": [],
   "source": [
    "# Filling missing values in count payment code columns\n",
    "values = {\"count_payment_code_week\": 0\n",
    "          , \"count_payment_code_month\": 0}\n",
    "# giả định rằng không có record về số dịch vụ sử dụng trong khoảng thời gian cho trước \n",
    "# tức là khách hàng đó không sử dụng dịch vự nào\n",
    "data.fillna(value=values, inplace=True)"
   ]
  },
  {
   "cell_type": "code",
   "execution_count": 29,
   "id": "11747a54",
   "metadata": {},
   "outputs": [
    {
     "data": {
      "image/png": "[encoded data removed]",
      "text/plain": [
       "<Figure size 1080x432 with 3 Axes>"
      ]
     },
     "metadata": {
      "needs_background": "light"
     },
     "output_type": "display_data"
    }
   ],
   "source": [
    "# Distribution of count payment code variables (AFTER filling missing values)\n",
    "    # không có nhiều thay đổi trong distribution, phần lớn record vẫn mang giá trị 0\n",
    "\n",
    "plt.figure(1, figsize=(15,6))\n",
    "n=0\n",
    "for x in ['count_payment_code_week', 'count_payment_code_month', 'count_payment_code_3month']:\n",
    "    n += 1\n",
    "    plt.subplot(1, 3, n)\n",
    "    plt.subplots_adjust(hspace = 0.5, wspace = 0.5)\n",
    "    sns.kdeplot(data[x], hue=data['incredible'])\n",
    "    plt.title('Displot of {}'.format(x))\n",
    "plt.show()"
   ]
  },
  {
   "cell_type": "code",
   "execution_count": 30,
   "id": "6f762888",
   "metadata": {
    "scrolled": true
   },
   "outputs": [
    {
     "data": {
      "text/plain": [
       "array([<AxesSubplot:title={'center':'False'}>,\n",
       "       <AxesSubplot:title={'center':'True'}>], dtype=object)"
      ]
     },
     "execution_count": 30,
     "metadata": {},
     "output_type": "execute_result"
    },
    {
     "data": {
      "image/png": "[encoded data removed]",
      "text/plain": [
       "<Figure size 432x288 with 2 Axes>"
      ]
     },
     "metadata": {
      "needs_background": "light"
     },
     "output_type": "display_data"
    }
   ],
   "source": [
    "data['age'].hist(by=data['incredible'])"
   ]
  },
  {
   "cell_type": "markdown",
   "id": "3af2a3a2",
   "metadata": {},
   "source": [
    "Customers with bad loans are slightly younger, on average, when comparing to customers with good loans."
   ]
  },
  {
   "cell_type": "code",
   "execution_count": 31,
   "id": "1d341e94",
   "metadata": {},
   "outputs": [
    {
     "name": "stderr",
     "output_type": "stream",
     "text": [
      "C:\\Users\\Dell\\anaconda3\\lib\\site-packages\\seaborn\\_decorators.py:36: FutureWarning: Pass the following variables as keyword args: x, y. From version 0.12, the only valid positional argument will be `data`, and passing other arguments without an explicit keyword will result in an error or misinterpretation.\n",
      "  warnings.warn(\n"
     ]
    },
    {
     "data": {
      "text/plain": [
       "<AxesSubplot:xlabel='incredible', ylabel='age'>"
      ]
     },
     "execution_count": 31,
     "metadata": {},
     "output_type": "execute_result"
    },
    {
     "data": {
      "image/png": "[encoded data removed]",
      "text/plain": [
       "<Figure size 720x504 with 1 Axes>"
      ]
     },
     "metadata": {
      "needs_background": "light"
     },
     "output_type": "display_data"
    }
   ],
   "source": [
    "plt.figure(figsize=(10, 7))\n",
    "sns.boxplot(data['incredible'].astype(str), data['age'])"
   ]
  },
  {
   "cell_type": "code",
   "execution_count": 32,
   "id": "bd88b15a",
   "metadata": {},
   "outputs": [
    {
     "name": "stderr",
     "output_type": "stream",
     "text": [
      "C:\\Users\\Dell\\anaconda3\\lib\\site-packages\\seaborn\\_decorators.py:36: FutureWarning: Pass the following variable as a keyword arg: x. From version 0.12, the only valid positional argument will be `data`, and passing other arguments without an explicit keyword will result in an error or misinterpretation.\n",
      "  warnings.warn(\n",
      "C:\\Users\\Dell\\anaconda3\\lib\\site-packages\\seaborn\\_decorators.py:36: FutureWarning: Pass the following variable as a keyword arg: x. From version 0.12, the only valid positional argument will be `data`, and passing other arguments without an explicit keyword will result in an error or misinterpretation.\n",
      "  warnings.warn(\n",
      "C:\\Users\\Dell\\anaconda3\\lib\\site-packages\\seaborn\\_decorators.py:36: FutureWarning: Pass the following variable as a keyword arg: x. From version 0.12, the only valid positional argument will be `data`, and passing other arguments without an explicit keyword will result in an error or misinterpretation.\n",
      "  warnings.warn(\n"
     ]
    },
    {
     "data": {
      "image/png": "[encoded data removed]",
      "text/plain": [
       "<Figure size 1080x432 with 3 Axes>"
      ]
     },
     "metadata": {
      "needs_background": "light"
     },
     "output_type": "display_data"
    }
   ],
   "source": [
    "plt.figure(1, figsize=(15,6))\n",
    "n=0\n",
    "for x in ['past_week', 'past_month', 'past_3months']:\n",
    "    n += 1\n",
    "    plt.subplot(1, 3, n)\n",
    "    plt.subplots_adjust(hspace = 0.5, wspace = 0.5)\n",
    "    sns.countplot(data[x], hue=data['incredible'])\n",
    "    plt.title('Countplot of {}'.format(x))\n",
    "plt.show()"
   ]
  },
  {
   "cell_type": "markdown",
   "id": "5a75cc8d",
   "metadata": {},
   "source": [
    "In the group of customers whose most recent transaction was three months pror to the observation time (December 31, 2020), the default rate is higher. This rate is much lower in the group of customers who had transactions within the last week prior to the time of observation."
   ]
  },
  {
   "cell_type": "code",
   "execution_count": 33,
   "id": "b46e08d5",
   "metadata": {
    "scrolled": false
   },
   "outputs": [
    {
     "name": "stderr",
     "output_type": "stream",
     "text": [
      "C:\\Users\\Dell\\anaconda3\\lib\\site-packages\\seaborn\\_decorators.py:36: FutureWarning: Pass the following variable as a keyword arg: x. From version 0.12, the only valid positional argument will be `data`, and passing other arguments without an explicit keyword will result in an error or misinterpretation.\n",
      "  warnings.warn(\n",
      "C:\\Users\\Dell\\anaconda3\\lib\\site-packages\\seaborn\\_decorators.py:36: FutureWarning: Pass the following variable as a keyword arg: x. From version 0.12, the only valid positional argument will be `data`, and passing other arguments without an explicit keyword will result in an error or misinterpretation.\n",
      "  warnings.warn(\n",
      "C:\\Users\\Dell\\anaconda3\\lib\\site-packages\\seaborn\\_decorators.py:36: FutureWarning: Pass the following variable as a keyword arg: x. From version 0.12, the only valid positional argument will be `data`, and passing other arguments without an explicit keyword will result in an error or misinterpretation.\n",
      "  warnings.warn(\n"
     ]
    },
    {
     "data": {
      "image/png": "[encoded data removed]",
      "text/plain": [
       "<Figure size 1080x432 with 3 Axes>"
      ]
     },
     "metadata": {
      "needs_background": "light"
     },
     "output_type": "display_data"
    }
   ],
   "source": [
    "plt.figure(1, figsize=(15,6))\n",
    "n=0\n",
    "for x in ['gender', 'marital_status', 'loaikyhanJuin2021']:\n",
    "    n += 1\n",
    "    plt.subplot(1, 3, n)\n",
    "    plt.subplots_adjust(hspace = 0.5, wspace = 0.5)\n",
    "    sns.countplot(data[x], hue=data['incredible'])\n",
    "    plt.title('Countplot of {}'.format(x))\n",
    "plt.show()"
   ]
  },
  {
   "cell_type": "markdown",
   "id": "e598e0bd",
   "metadata": {},
   "source": [
    "* About 25% of male applicants had low credibility, this rate is lower for female applicants, with only about one-seventh of the female applicants having high default risk.\n",
    "* With approximately one-fifth of the applicants with high default risk, married applicants seem to be less risky and more creditworthy. This may be because of their responsibility to their spouses and families as compared to single applicants. Another factor may be of dual income.\n",
    "* Long-term and medium-term loans also have a much lower uncreditworthy rate than short-term loans."
   ]
  },
  {
   "cell_type": "markdown",
   "id": "abd2ce99",
   "metadata": {},
   "source": [
    "## Encoding"
   ]
  },
  {
   "cell_type": "code",
   "execution_count": 34,
   "id": "15ee8772",
   "metadata": {
    "scrolled": true
   },
   "outputs": [
    {
     "data": {
      "text/html": [
       "<div>\n",
       "<style scoped>\n",
       "    .dataframe tbody tr th:only-of-type {\n",
       "        vertical-align: middle;\n",
       "    }\n",
       "\n",
       "    .dataframe tbody tr th {\n",
       "        vertical-align: top;\n",
       "    }\n",
       "\n",
       "    .dataframe thead th {\n",
       "        text-align: right;\n",
       "    }\n",
       "</style>\n",
       "<table border=\"1\" class=\"dataframe\">\n",
       "  <thead>\n",
       "    <tr style=\"text-align: right;\">\n",
       "      <th></th>\n",
       "      <th>gender</th>\n",
       "      <th>marital_status</th>\n",
       "      <th>count_payment_code_week</th>\n",
       "      <th>count_payment_code_month</th>\n",
       "      <th>count_payment_code_3month</th>\n",
       "      <th>balanceJuin2021</th>\n",
       "      <th>nominal_interestJuin2021</th>\n",
       "      <th>real_interestJuin2021</th>\n",
       "      <th>loaikyhanJuin2021</th>\n",
       "      <th>age</th>\n",
       "      <th>past_week</th>\n",
       "      <th>past_month</th>\n",
       "      <th>past_3months</th>\n",
       "      <th>incredible</th>\n",
       "    </tr>\n",
       "  </thead>\n",
       "  <tbody>\n",
       "    <tr>\n",
       "      <th>1</th>\n",
       "      <td>MALE</td>\n",
       "      <td>Single</td>\n",
       "      <td>0.0</td>\n",
       "      <td>0.0</td>\n",
       "      <td>0</td>\n",
       "      <td>0.003666</td>\n",
       "      <td>0.006953</td>\n",
       "      <td>0.004128</td>\n",
       "      <td>DH</td>\n",
       "      <td>35.0</td>\n",
       "      <td>0.0</td>\n",
       "      <td>1.0</td>\n",
       "      <td>0.0</td>\n",
       "      <td>False</td>\n",
       "    </tr>\n",
       "    <tr>\n",
       "      <th>7</th>\n",
       "      <td>MALE</td>\n",
       "      <td>Married</td>\n",
       "      <td>0.0</td>\n",
       "      <td>0.0</td>\n",
       "      <td>2</td>\n",
       "      <td>0.000139</td>\n",
       "      <td>0.000456</td>\n",
       "      <td>0.000000</td>\n",
       "      <td>NH</td>\n",
       "      <td>29.0</td>\n",
       "      <td>1.0</td>\n",
       "      <td>0.0</td>\n",
       "      <td>0.0</td>\n",
       "      <td>False</td>\n",
       "    </tr>\n",
       "    <tr>\n",
       "      <th>11</th>\n",
       "      <td>MALE</td>\n",
       "      <td>Married</td>\n",
       "      <td>0.0</td>\n",
       "      <td>1.0</td>\n",
       "      <td>2</td>\n",
       "      <td>0.012917</td>\n",
       "      <td>0.024721</td>\n",
       "      <td>0.014677</td>\n",
       "      <td>DH</td>\n",
       "      <td>34.0</td>\n",
       "      <td>0.0</td>\n",
       "      <td>1.0</td>\n",
       "      <td>0.0</td>\n",
       "      <td>False</td>\n",
       "    </tr>\n",
       "    <tr>\n",
       "      <th>12</th>\n",
       "      <td>MALE</td>\n",
       "      <td>Single</td>\n",
       "      <td>0.0</td>\n",
       "      <td>3.0</td>\n",
       "      <td>6</td>\n",
       "      <td>0.000000</td>\n",
       "      <td>0.000000</td>\n",
       "      <td>0.000000</td>\n",
       "      <td>NH</td>\n",
       "      <td>25.0</td>\n",
       "      <td>1.0</td>\n",
       "      <td>0.0</td>\n",
       "      <td>0.0</td>\n",
       "      <td>False</td>\n",
       "    </tr>\n",
       "    <tr>\n",
       "      <th>14</th>\n",
       "      <td>MALE</td>\n",
       "      <td>Married</td>\n",
       "      <td>0.0</td>\n",
       "      <td>0.0</td>\n",
       "      <td>0</td>\n",
       "      <td>0.026599</td>\n",
       "      <td>0.049072</td>\n",
       "      <td>0.029538</td>\n",
       "      <td>DH</td>\n",
       "      <td>48.0</td>\n",
       "      <td>0.0</td>\n",
       "      <td>0.0</td>\n",
       "      <td>1.0</td>\n",
       "      <td>False</td>\n",
       "    </tr>\n",
       "  </tbody>\n",
       "</table>\n",
       "</div>"
      ],
      "text/plain": [
       "   gender marital_status  count_payment_code_week  count_payment_code_month  \\\n",
       "1    MALE         Single                      0.0                       0.0   \n",
       "7    MALE        Married                      0.0                       0.0   \n",
       "11   MALE        Married                      0.0                       1.0   \n",
       "12   MALE         Single                      0.0                       3.0   \n",
       "14   MALE        Married                      0.0                       0.0   \n",
       "\n",
       "    count_payment_code_3month  balanceJuin2021  nominal_interestJuin2021  \\\n",
       "1                           0         0.003666                  0.006953   \n",
       "7                           2         0.000139                  0.000456   \n",
       "11                          2         0.012917                  0.024721   \n",
       "12                          6         0.000000                  0.000000   \n",
       "14                          0         0.026599                  0.049072   \n",
       "\n",
       "    real_interestJuin2021 loaikyhanJuin2021   age  past_week  past_month  \\\n",
       "1                0.004128                DH  35.0        0.0         1.0   \n",
       "7                0.000000                NH  29.0        1.0         0.0   \n",
       "11               0.014677                DH  34.0        0.0         1.0   \n",
       "12               0.000000                NH  25.0        1.0         0.0   \n",
       "14               0.029538                DH  48.0        0.0         0.0   \n",
       "\n",
       "    past_3months  incredible  \n",
       "1            0.0       False  \n",
       "7            0.0       False  \n",
       "11           0.0       False  \n",
       "12           0.0       False  \n",
       "14           1.0       False  "
      ]
     },
     "execution_count": 34,
     "metadata": {},
     "output_type": "execute_result"
    }
   ],
   "source": [
    "data.head()"
   ]
  },
  {
   "cell_type": "code",
   "execution_count": 35,
   "id": "eceb3d71",
   "metadata": {
    "scrolled": true
   },
   "outputs": [
    {
     "data": {
      "text/html": [
       "<div>\n",
       "<style scoped>\n",
       "    .dataframe tbody tr th:only-of-type {\n",
       "        vertical-align: middle;\n",
       "    }\n",
       "\n",
       "    .dataframe tbody tr th {\n",
       "        vertical-align: top;\n",
       "    }\n",
       "\n",
       "    .dataframe thead th {\n",
       "        text-align: right;\n",
       "    }\n",
       "</style>\n",
       "<table border=\"1\" class=\"dataframe\">\n",
       "  <thead>\n",
       "    <tr style=\"text-align: right;\">\n",
       "      <th></th>\n",
       "      <th>count_payment_code_week</th>\n",
       "      <th>count_payment_code_month</th>\n",
       "      <th>count_payment_code_3month</th>\n",
       "      <th>balanceJuin2021</th>\n",
       "      <th>nominal_interestJuin2021</th>\n",
       "      <th>real_interestJuin2021</th>\n",
       "      <th>age</th>\n",
       "      <th>past_week</th>\n",
       "      <th>past_month</th>\n",
       "      <th>past_3months</th>\n",
       "      <th>incredible</th>\n",
       "      <th>_MALE</th>\n",
       "      <th>_Divorced</th>\n",
       "      <th>_Other</th>\n",
       "      <th>_Single</th>\n",
       "      <th>_Widowed</th>\n",
       "      <th>_DH</th>\n",
       "      <th>_NH</th>\n",
       "    </tr>\n",
       "  </thead>\n",
       "  <tbody>\n",
       "    <tr>\n",
       "      <th>1</th>\n",
       "      <td>0.0</td>\n",
       "      <td>0.0</td>\n",
       "      <td>0</td>\n",
       "      <td>0.003666</td>\n",
       "      <td>0.006953</td>\n",
       "      <td>0.004128</td>\n",
       "      <td>35.0</td>\n",
       "      <td>0.0</td>\n",
       "      <td>1.0</td>\n",
       "      <td>0.0</td>\n",
       "      <td>0</td>\n",
       "      <td>1</td>\n",
       "      <td>0</td>\n",
       "      <td>0</td>\n",
       "      <td>1</td>\n",
       "      <td>0</td>\n",
       "      <td>1</td>\n",
       "      <td>0</td>\n",
       "    </tr>\n",
       "    <tr>\n",
       "      <th>7</th>\n",
       "      <td>0.0</td>\n",
       "      <td>0.0</td>\n",
       "      <td>2</td>\n",
       "      <td>0.000139</td>\n",
       "      <td>0.000456</td>\n",
       "      <td>0.000000</td>\n",
       "      <td>29.0</td>\n",
       "      <td>1.0</td>\n",
       "      <td>0.0</td>\n",
       "      <td>0.0</td>\n",
       "      <td>0</td>\n",
       "      <td>1</td>\n",
       "      <td>0</td>\n",
       "      <td>0</td>\n",
       "      <td>0</td>\n",
       "      <td>0</td>\n",
       "      <td>0</td>\n",
       "      <td>1</td>\n",
       "    </tr>\n",
       "    <tr>\n",
       "      <th>11</th>\n",
       "      <td>0.0</td>\n",
       "      <td>1.0</td>\n",
       "      <td>2</td>\n",
       "      <td>0.012917</td>\n",
       "      <td>0.024721</td>\n",
       "      <td>0.014677</td>\n",
       "      <td>34.0</td>\n",
       "      <td>0.0</td>\n",
       "      <td>1.0</td>\n",
       "      <td>0.0</td>\n",
       "      <td>0</td>\n",
       "      <td>1</td>\n",
       "      <td>0</td>\n",
       "      <td>0</td>\n",
       "      <td>0</td>\n",
       "      <td>0</td>\n",
       "      <td>1</td>\n",
       "      <td>0</td>\n",
       "    </tr>\n",
       "    <tr>\n",
       "      <th>12</th>\n",
       "      <td>0.0</td>\n",
       "      <td>3.0</td>\n",
       "      <td>6</td>\n",
       "      <td>0.000000</td>\n",
       "      <td>0.000000</td>\n",
       "      <td>0.000000</td>\n",
       "      <td>25.0</td>\n",
       "      <td>1.0</td>\n",
       "      <td>0.0</td>\n",
       "      <td>0.0</td>\n",
       "      <td>0</td>\n",
       "      <td>1</td>\n",
       "      <td>0</td>\n",
       "      <td>0</td>\n",
       "      <td>1</td>\n",
       "      <td>0</td>\n",
       "      <td>0</td>\n",
       "      <td>1</td>\n",
       "    </tr>\n",
       "    <tr>\n",
       "      <th>14</th>\n",
       "      <td>0.0</td>\n",
       "      <td>0.0</td>\n",
       "      <td>0</td>\n",
       "      <td>0.026599</td>\n",
       "      <td>0.049072</td>\n",
       "      <td>0.029538</td>\n",
       "      <td>48.0</td>\n",
       "      <td>0.0</td>\n",
       "      <td>0.0</td>\n",
       "      <td>1.0</td>\n",
       "      <td>0</td>\n",
       "      <td>1</td>\n",
       "      <td>0</td>\n",
       "      <td>0</td>\n",
       "      <td>0</td>\n",
       "      <td>0</td>\n",
       "      <td>1</td>\n",
       "      <td>0</td>\n",
       "    </tr>\n",
       "  </tbody>\n",
       "</table>\n",
       "</div>"
      ],
      "text/plain": [
       "    count_payment_code_week  count_payment_code_month  \\\n",
       "1                       0.0                       0.0   \n",
       "7                       0.0                       0.0   \n",
       "11                      0.0                       1.0   \n",
       "12                      0.0                       3.0   \n",
       "14                      0.0                       0.0   \n",
       "\n",
       "    count_payment_code_3month  balanceJuin2021  nominal_interestJuin2021  \\\n",
       "1                           0         0.003666                  0.006953   \n",
       "7                           2         0.000139                  0.000456   \n",
       "11                          2         0.012917                  0.024721   \n",
       "12                          6         0.000000                  0.000000   \n",
       "14                          0         0.026599                  0.049072   \n",
       "\n",
       "    real_interestJuin2021   age  past_week  past_month  past_3months  \\\n",
       "1                0.004128  35.0        0.0         1.0           0.0   \n",
       "7                0.000000  29.0        1.0         0.0           0.0   \n",
       "11               0.014677  34.0        0.0         1.0           0.0   \n",
       "12               0.000000  25.0        1.0         0.0           0.0   \n",
       "14               0.029538  48.0        0.0         0.0           1.0   \n",
       "\n",
       "    incredible  _MALE  _Divorced  _Other  _Single  _Widowed  _DH  _NH  \n",
       "1            0      1          0       0        1         0    1    0  \n",
       "7            0      1          0       0        0         0    0    1  \n",
       "11           0      1          0       0        0         0    1    0  \n",
       "12           0      1          0       0        1         0    0    1  \n",
       "14           0      1          0       0        0         0    1    0  "
      ]
     },
     "execution_count": 35,
     "metadata": {},
     "output_type": "execute_result"
    }
   ],
   "source": [
    "data2 = pd.get_dummies(data=data, prefix='')\n",
    "data2.drop(columns=['_FEMALE', '_NONE', '_Married', '_TH'], inplace=True)\n",
    "\n",
    "data2['incredible'] = data2.incredible.map({True:1, False:0})\n",
    "data2.head()"
   ]
  },
  {
   "cell_type": "markdown",
   "id": "8ed58fd7",
   "metadata": {},
   "source": [
    "### Point biserial correlation"
   ]
  },
  {
   "cell_type": "code",
   "execution_count": 36,
   "id": "ce6602c5",
   "metadata": {
    "scrolled": true
   },
   "outputs": [
    {
     "data": {
      "text/html": [
       "<div>\n",
       "<style scoped>\n",
       "    .dataframe tbody tr th:only-of-type {\n",
       "        vertical-align: middle;\n",
       "    }\n",
       "\n",
       "    .dataframe tbody tr th {\n",
       "        vertical-align: top;\n",
       "    }\n",
       "\n",
       "    .dataframe thead th {\n",
       "        text-align: right;\n",
       "    }\n",
       "</style>\n",
       "<table border=\"1\" class=\"dataframe\">\n",
       "  <thead>\n",
       "    <tr style=\"text-align: right;\">\n",
       "      <th></th>\n",
       "      <th>age</th>\n",
       "      <th>count_payment_code_week</th>\n",
       "      <th>count_payment_code_month</th>\n",
       "      <th>count_payment_code_3month</th>\n",
       "      <th>balanceJuin2021</th>\n",
       "      <th>nominal_interestJuin2021</th>\n",
       "      <th>real_interestJuin2021</th>\n",
       "    </tr>\n",
       "  </thead>\n",
       "  <tbody>\n",
       "    <tr>\n",
       "      <th>Correlation coefficient</th>\n",
       "      <td>-0.031</td>\n",
       "      <td>0.007</td>\n",
       "      <td>-0.021</td>\n",
       "      <td>-0.057</td>\n",
       "      <td>-0.057</td>\n",
       "      <td>-0.047</td>\n",
       "      <td>-0.066</td>\n",
       "    </tr>\n",
       "    <tr>\n",
       "      <th>P-value</th>\n",
       "      <td>0.000</td>\n",
       "      <td>0.229</td>\n",
       "      <td>0.000</td>\n",
       "      <td>0.000</td>\n",
       "      <td>0.000</td>\n",
       "      <td>0.000</td>\n",
       "      <td>0.000</td>\n",
       "    </tr>\n",
       "  </tbody>\n",
       "</table>\n",
       "</div>"
      ],
      "text/plain": [
       "                           age  count_payment_code_week  \\\n",
       "Correlation coefficient -0.031                    0.007   \n",
       "P-value                  0.000                    0.229   \n",
       "\n",
       "                         count_payment_code_month  count_payment_code_3month  \\\n",
       "Correlation coefficient                    -0.021                     -0.057   \n",
       "P-value                                     0.000                      0.000   \n",
       "\n",
       "                         balanceJuin2021  nominal_interestJuin2021  \\\n",
       "Correlation coefficient           -0.057                    -0.047   \n",
       "P-value                            0.000                     0.000   \n",
       "\n",
       "                         real_interestJuin2021  \n",
       "Correlation coefficient                 -0.066  \n",
       "P-value                                  0.000  "
      ]
     },
     "execution_count": 36,
     "metadata": {},
     "output_type": "execute_result"
    }
   ],
   "source": [
    "y = data2['incredible']\n",
    "df = data2[['age', 'count_payment_code_week', 'count_payment_code_month'\n",
    "           , 'count_payment_code_3month', 'balanceJuin2021'\n",
    "           , 'nominal_interestJuin2021', 'real_interestJuin2021']]\n",
    "\n",
    "corre = []\n",
    "pval = []\n",
    "\n",
    "for column in df:\n",
    "    x=df[column]\n",
    "    corr, p = stats.pointbiserialr(list(x), list(y))\n",
    "    corre.append(round(corr,3))\n",
    "    pval.append(round(p,3))\n",
    "results = np.array([corre, pval])\n",
    "corr_table = pd.DataFrame(results\n",
    "                          , index=['Correlation coefficient', 'P-value']\n",
    "                          , columns=df.columns)\n",
    "corr_table"
   ]
  },
  {
   "cell_type": "markdown",
   "id": "4c8a904b",
   "metadata": {},
   "source": [
    "### Cramer's V correlation for categorical variables"
   ]
  },
  {
   "cell_type": "code",
   "execution_count": 37,
   "id": "65553afa",
   "metadata": {},
   "outputs": [],
   "source": [
    "def cramers_V(var1,var2) :\n",
    "    # Cross table building\n",
    "    crosstab =np.array(pd.crosstab(var1,var2, rownames=None, colnames=None))\n",
    "    # Keeping of the test statistic of the Chi2 test\n",
    "    stat = chi2_contingency(crosstab)[0]\n",
    "    # Number of observations\n",
    "    obs = np.sum(crosstab)\n",
    "    # Take the minimum value between the columns and the rows of the cross table\n",
    "    mini = min(crosstab.shape)-1\n",
    "    return (stat/(obs*mini))"
   ]
  },
  {
   "cell_type": "code",
   "execution_count": 38,
   "id": "2d16c732",
   "metadata": {},
   "outputs": [
    {
     "data": {
      "text/html": [
       "<div>\n",
       "<style scoped>\n",
       "    .dataframe tbody tr th:only-of-type {\n",
       "        vertical-align: middle;\n",
       "    }\n",
       "\n",
       "    .dataframe tbody tr th {\n",
       "        vertical-align: top;\n",
       "    }\n",
       "\n",
       "    .dataframe thead th {\n",
       "        text-align: right;\n",
       "    }\n",
       "</style>\n",
       "<table border=\"1\" class=\"dataframe\">\n",
       "  <thead>\n",
       "    <tr style=\"text-align: right;\">\n",
       "      <th></th>\n",
       "      <th>incredible</th>\n",
       "      <th>past_week</th>\n",
       "      <th>past_month</th>\n",
       "      <th>past_3months</th>\n",
       "      <th>_MALE</th>\n",
       "      <th>_Divorced</th>\n",
       "      <th>_Single</th>\n",
       "      <th>_Widowed</th>\n",
       "      <th>_Other</th>\n",
       "      <th>_DH</th>\n",
       "      <th>_NH</th>\n",
       "    </tr>\n",
       "  </thead>\n",
       "  <tbody>\n",
       "    <tr>\n",
       "      <th>incredible</th>\n",
       "      <td>1.000</td>\n",
       "      <td>0.062</td>\n",
       "      <td>0.008</td>\n",
       "      <td>0.055</td>\n",
       "      <td>0.009</td>\n",
       "      <td>0.00</td>\n",
       "      <td>0.001</td>\n",
       "      <td>0.00</td>\n",
       "      <td>0.000</td>\n",
       "      <td>0.003</td>\n",
       "      <td>0.012</td>\n",
       "    </tr>\n",
       "    <tr>\n",
       "      <th>past_week</th>\n",
       "      <td>0.062</td>\n",
       "      <td>1.000</td>\n",
       "      <td>0.508</td>\n",
       "      <td>0.204</td>\n",
       "      <td>0.010</td>\n",
       "      <td>0.00</td>\n",
       "      <td>0.003</td>\n",
       "      <td>0.00</td>\n",
       "      <td>0.001</td>\n",
       "      <td>0.005</td>\n",
       "      <td>0.000</td>\n",
       "    </tr>\n",
       "    <tr>\n",
       "      <th>past_month</th>\n",
       "      <td>0.008</td>\n",
       "      <td>0.508</td>\n",
       "      <td>1.000</td>\n",
       "      <td>0.032</td>\n",
       "      <td>0.007</td>\n",
       "      <td>0.00</td>\n",
       "      <td>0.002</td>\n",
       "      <td>0.00</td>\n",
       "      <td>0.001</td>\n",
       "      <td>0.000</td>\n",
       "      <td>0.000</td>\n",
       "    </tr>\n",
       "    <tr>\n",
       "      <th>past_3months</th>\n",
       "      <td>0.055</td>\n",
       "      <td>0.204</td>\n",
       "      <td>0.032</td>\n",
       "      <td>1.000</td>\n",
       "      <td>0.002</td>\n",
       "      <td>0.00</td>\n",
       "      <td>0.000</td>\n",
       "      <td>0.00</td>\n",
       "      <td>0.000</td>\n",
       "      <td>0.001</td>\n",
       "      <td>0.000</td>\n",
       "    </tr>\n",
       "    <tr>\n",
       "      <th>_MALE</th>\n",
       "      <td>0.009</td>\n",
       "      <td>0.010</td>\n",
       "      <td>0.007</td>\n",
       "      <td>0.002</td>\n",
       "      <td>1.000</td>\n",
       "      <td>0.00</td>\n",
       "      <td>0.001</td>\n",
       "      <td>0.00</td>\n",
       "      <td>0.058</td>\n",
       "      <td>0.004</td>\n",
       "      <td>0.000</td>\n",
       "    </tr>\n",
       "    <tr>\n",
       "      <th>_Divorced</th>\n",
       "      <td>0.000</td>\n",
       "      <td>0.000</td>\n",
       "      <td>0.000</td>\n",
       "      <td>0.000</td>\n",
       "      <td>0.000</td>\n",
       "      <td>0.96</td>\n",
       "      <td>0.000</td>\n",
       "      <td>0.00</td>\n",
       "      <td>0.000</td>\n",
       "      <td>0.000</td>\n",
       "      <td>0.000</td>\n",
       "    </tr>\n",
       "    <tr>\n",
       "      <th>_Single</th>\n",
       "      <td>0.001</td>\n",
       "      <td>0.003</td>\n",
       "      <td>0.002</td>\n",
       "      <td>0.000</td>\n",
       "      <td>0.001</td>\n",
       "      <td>0.00</td>\n",
       "      <td>1.000</td>\n",
       "      <td>0.00</td>\n",
       "      <td>0.024</td>\n",
       "      <td>0.006</td>\n",
       "      <td>0.010</td>\n",
       "    </tr>\n",
       "    <tr>\n",
       "      <th>_Widowed</th>\n",
       "      <td>0.000</td>\n",
       "      <td>0.000</td>\n",
       "      <td>0.000</td>\n",
       "      <td>0.000</td>\n",
       "      <td>0.000</td>\n",
       "      <td>0.00</td>\n",
       "      <td>0.000</td>\n",
       "      <td>0.84</td>\n",
       "      <td>0.000</td>\n",
       "      <td>0.000</td>\n",
       "      <td>0.000</td>\n",
       "    </tr>\n",
       "    <tr>\n",
       "      <th>_Other</th>\n",
       "      <td>0.000</td>\n",
       "      <td>0.001</td>\n",
       "      <td>0.001</td>\n",
       "      <td>0.000</td>\n",
       "      <td>0.058</td>\n",
       "      <td>0.00</td>\n",
       "      <td>0.024</td>\n",
       "      <td>0.00</td>\n",
       "      <td>0.999</td>\n",
       "      <td>0.000</td>\n",
       "      <td>0.002</td>\n",
       "    </tr>\n",
       "    <tr>\n",
       "      <th>_DH</th>\n",
       "      <td>0.003</td>\n",
       "      <td>0.005</td>\n",
       "      <td>0.000</td>\n",
       "      <td>0.001</td>\n",
       "      <td>0.004</td>\n",
       "      <td>0.00</td>\n",
       "      <td>0.006</td>\n",
       "      <td>0.00</td>\n",
       "      <td>0.000</td>\n",
       "      <td>1.000</td>\n",
       "      <td>0.144</td>\n",
       "    </tr>\n",
       "    <tr>\n",
       "      <th>_NH</th>\n",
       "      <td>0.012</td>\n",
       "      <td>0.000</td>\n",
       "      <td>0.000</td>\n",
       "      <td>0.000</td>\n",
       "      <td>0.000</td>\n",
       "      <td>0.00</td>\n",
       "      <td>0.010</td>\n",
       "      <td>0.00</td>\n",
       "      <td>0.002</td>\n",
       "      <td>0.144</td>\n",
       "      <td>1.000</td>\n",
       "    </tr>\n",
       "  </tbody>\n",
       "</table>\n",
       "</div>"
      ],
      "text/plain": [
       "              incredible  past_week  past_month  past_3months  _MALE  \\\n",
       "incredible         1.000      0.062       0.008         0.055  0.009   \n",
       "past_week          0.062      1.000       0.508         0.204  0.010   \n",
       "past_month         0.008      0.508       1.000         0.032  0.007   \n",
       "past_3months       0.055      0.204       0.032         1.000  0.002   \n",
       "_MALE              0.009      0.010       0.007         0.002  1.000   \n",
       "_Divorced          0.000      0.000       0.000         0.000  0.000   \n",
       "_Single            0.001      0.003       0.002         0.000  0.001   \n",
       "_Widowed           0.000      0.000       0.000         0.000  0.000   \n",
       "_Other             0.000      0.001       0.001         0.000  0.058   \n",
       "_DH                0.003      0.005       0.000         0.001  0.004   \n",
       "_NH                0.012      0.000       0.000         0.000  0.000   \n",
       "\n",
       "              _Divorced  _Single  _Widowed  _Other    _DH    _NH  \n",
       "incredible         0.00    0.001      0.00   0.000  0.003  0.012  \n",
       "past_week          0.00    0.003      0.00   0.001  0.005  0.000  \n",
       "past_month         0.00    0.002      0.00   0.001  0.000  0.000  \n",
       "past_3months       0.00    0.000      0.00   0.000  0.001  0.000  \n",
       "_MALE              0.00    0.001      0.00   0.058  0.004  0.000  \n",
       "_Divorced          0.96    0.000      0.00   0.000  0.000  0.000  \n",
       "_Single            0.00    1.000      0.00   0.024  0.006  0.010  \n",
       "_Widowed           0.00    0.000      0.84   0.000  0.000  0.000  \n",
       "_Other             0.00    0.024      0.00   0.999  0.000  0.002  \n",
       "_DH                0.00    0.006      0.00   0.000  1.000  0.144  \n",
       "_NH                0.00    0.010      0.00   0.002  0.144  1.000  "
      ]
     },
     "execution_count": 38,
     "metadata": {},
     "output_type": "execute_result"
    }
   ],
   "source": [
    "data_cat = data2[['incredible', 'past_week', 'past_month', 'past_3months', '_MALE'\n",
    "                  , '_Divorced', '_Single', '_Widowed', '_Other', '_DH', '_NH']]\n",
    "\n",
    "rows = []\n",
    "\n",
    "for var1 in data_cat:\n",
    "    col = []\n",
    "    for var2 in data_cat:\n",
    "        # Cramer's V test\n",
    "        cramers = cramers_V(data_cat[var1], data_cat[var2])\n",
    "        # Keeping of the rounded value of the Cramer's V  \n",
    "        col.append(round(cramers,3))\n",
    "    rows.append(col)\n",
    "cramers_results = np.array(rows)\n",
    "df = pd.DataFrame(cramers_results, columns=data_cat.columns, index=data_cat.columns)\n",
    "\n",
    "df"
   ]
  },
  {
   "cell_type": "code",
   "execution_count": 39,
   "id": "736e549f",
   "metadata": {
    "scrolled": false
   },
   "outputs": [
    {
     "name": "stderr",
     "output_type": "stream",
     "text": [
      "C:\\Users\\Dell\\AppData\\Local\\Temp/ipykernel_2712/2730532862.py:1: DeprecationWarning: `np.bool` is a deprecated alias for the builtin `bool`. To silence this warning, use `bool` by itself. Doing this will not modify any behavior and is safe. If you specifically wanted the numpy scalar type, use `np.bool_` here.\n",
      "Deprecated in NumPy 1.20; for more details and guidance: https://numpy.org/devdocs/release/1.20.0-notes.html#deprecations\n",
      "  mask = np.zeros_like(df, dtype=np.bool)\n"
     ]
    },
    {
     "data": {
      "image/png": "[encoded data removed]",
      "text/plain": [
       "<Figure size 432x288 with 2 Axes>"
      ]
     },
     "metadata": {},
     "output_type": "display_data"
    }
   ],
   "source": [
    "mask = np.zeros_like(df, dtype=np.bool)\n",
    "mask[np.triu_indices_from(mask)] = True\n",
    "\n",
    "with sns.axes_style(\"white\"):\n",
    "    ax = sns.heatmap(df, mask=mask,vmin=0., vmax=0.2, square=True)\n",
    "\n",
    "plt.show()"
   ]
  },
  {
   "cell_type": "markdown",
   "id": "0e0e1b15",
   "metadata": {},
   "source": [
    "<div class=\"alert alert-info\" style=\"margin-top: 20px\">\n",
    "\n",
    "The data is ***imbalance***, a random split can result in the training set not having any uncredible debts. The data is splitted with **STRATIFICATION**."
   ]
  },
  {
   "cell_type": "code",
   "execution_count": 40,
   "id": "bd9feeda",
   "metadata": {
    "scrolled": false
   },
   "outputs": [
    {
     "name": "stderr",
     "output_type": "stream",
     "text": [
      "C:\\Users\\Dell\\anaconda3\\lib\\site-packages\\seaborn\\_decorators.py:36: FutureWarning: Pass the following variable as a keyword arg: x. From version 0.12, the only valid positional argument will be `data`, and passing other arguments without an explicit keyword will result in an error or misinterpretation.\n",
      "  warnings.warn(\n"
     ]
    },
    {
     "data": {
      "text/plain": [
       "<AxesSubplot:xlabel='incredible', ylabel='count'>"
      ]
     },
     "execution_count": 40,
     "metadata": {},
     "output_type": "execute_result"
    },
    {
     "data": {
      "image/png": "[encoded data removed]",
      "text/plain": [
       "<Figure size 432x288 with 1 Axes>"
      ]
     },
     "metadata": {
      "needs_background": "light"
     },
     "output_type": "display_data"
    }
   ],
   "source": [
    "sns.countplot('incredible', data=data2)"
   ]
  },
  {
   "cell_type": "markdown",
   "id": "be4ba25c",
   "metadata": {},
   "source": [
    "## Modeling"
   ]
  },
  {
   "cell_type": "markdown",
   "id": "0b74db9f",
   "metadata": {},
   "source": [
    "### Scaling"
   ]
  },
  {
   "cell_type": "code",
   "execution_count": 41,
   "id": "da7e51cf",
   "metadata": {
    "scrolled": true
   },
   "outputs": [
    {
     "data": {
      "text/html": [
       "<div>\n",
       "<style scoped>\n",
       "    .dataframe tbody tr th:only-of-type {\n",
       "        vertical-align: middle;\n",
       "    }\n",
       "\n",
       "    .dataframe tbody tr th {\n",
       "        vertical-align: top;\n",
       "    }\n",
       "\n",
       "    .dataframe thead th {\n",
       "        text-align: right;\n",
       "    }\n",
       "</style>\n",
       "<table border=\"1\" class=\"dataframe\">\n",
       "  <thead>\n",
       "    <tr style=\"text-align: right;\">\n",
       "      <th></th>\n",
       "      <th>count_payment_code_week</th>\n",
       "      <th>count_payment_code_month</th>\n",
       "      <th>count_payment_code_3month</th>\n",
       "      <th>balanceJuin2021</th>\n",
       "      <th>nominal_interestJuin2021</th>\n",
       "      <th>real_interestJuin2021</th>\n",
       "      <th>age</th>\n",
       "      <th>past_week</th>\n",
       "      <th>past_month</th>\n",
       "      <th>past_3months</th>\n",
       "      <th>incredible</th>\n",
       "      <th>_MALE</th>\n",
       "      <th>_Divorced</th>\n",
       "      <th>_Other</th>\n",
       "      <th>_Single</th>\n",
       "      <th>_Widowed</th>\n",
       "      <th>_DH</th>\n",
       "      <th>_NH</th>\n",
       "    </tr>\n",
       "  </thead>\n",
       "  <tbody>\n",
       "    <tr>\n",
       "      <th>1</th>\n",
       "      <td>0.000000</td>\n",
       "      <td>0.000000</td>\n",
       "      <td>0.000000</td>\n",
       "      <td>0.003666</td>\n",
       "      <td>0.006953</td>\n",
       "      <td>0.004128</td>\n",
       "      <td>0.326923</td>\n",
       "      <td>0.0</td>\n",
       "      <td>1.0</td>\n",
       "      <td>0.0</td>\n",
       "      <td>0</td>\n",
       "      <td>1</td>\n",
       "      <td>0</td>\n",
       "      <td>0</td>\n",
       "      <td>1</td>\n",
       "      <td>0</td>\n",
       "      <td>1</td>\n",
       "      <td>0</td>\n",
       "    </tr>\n",
       "    <tr>\n",
       "      <th>7</th>\n",
       "      <td>0.000000</td>\n",
       "      <td>0.000000</td>\n",
       "      <td>0.005076</td>\n",
       "      <td>0.000139</td>\n",
       "      <td>0.000456</td>\n",
       "      <td>0.000000</td>\n",
       "      <td>0.211538</td>\n",
       "      <td>1.0</td>\n",
       "      <td>0.0</td>\n",
       "      <td>0.0</td>\n",
       "      <td>0</td>\n",
       "      <td>1</td>\n",
       "      <td>0</td>\n",
       "      <td>0</td>\n",
       "      <td>0</td>\n",
       "      <td>0</td>\n",
       "      <td>0</td>\n",
       "      <td>1</td>\n",
       "    </tr>\n",
       "    <tr>\n",
       "      <th>11</th>\n",
       "      <td>0.000000</td>\n",
       "      <td>0.002564</td>\n",
       "      <td>0.005076</td>\n",
       "      <td>0.012917</td>\n",
       "      <td>0.024721</td>\n",
       "      <td>0.014677</td>\n",
       "      <td>0.307692</td>\n",
       "      <td>0.0</td>\n",
       "      <td>1.0</td>\n",
       "      <td>0.0</td>\n",
       "      <td>0</td>\n",
       "      <td>1</td>\n",
       "      <td>0</td>\n",
       "      <td>0</td>\n",
       "      <td>0</td>\n",
       "      <td>0</td>\n",
       "      <td>1</td>\n",
       "      <td>0</td>\n",
       "    </tr>\n",
       "    <tr>\n",
       "      <th>12</th>\n",
       "      <td>0.000000</td>\n",
       "      <td>0.007692</td>\n",
       "      <td>0.015228</td>\n",
       "      <td>0.000000</td>\n",
       "      <td>0.000000</td>\n",
       "      <td>0.000000</td>\n",
       "      <td>0.134615</td>\n",
       "      <td>1.0</td>\n",
       "      <td>0.0</td>\n",
       "      <td>0.0</td>\n",
       "      <td>0</td>\n",
       "      <td>1</td>\n",
       "      <td>0</td>\n",
       "      <td>0</td>\n",
       "      <td>1</td>\n",
       "      <td>0</td>\n",
       "      <td>0</td>\n",
       "      <td>1</td>\n",
       "    </tr>\n",
       "    <tr>\n",
       "      <th>14</th>\n",
       "      <td>0.000000</td>\n",
       "      <td>0.000000</td>\n",
       "      <td>0.000000</td>\n",
       "      <td>0.026599</td>\n",
       "      <td>0.049072</td>\n",
       "      <td>0.029538</td>\n",
       "      <td>0.576923</td>\n",
       "      <td>0.0</td>\n",
       "      <td>0.0</td>\n",
       "      <td>1.0</td>\n",
       "      <td>0</td>\n",
       "      <td>1</td>\n",
       "      <td>0</td>\n",
       "      <td>0</td>\n",
       "      <td>0</td>\n",
       "      <td>0</td>\n",
       "      <td>1</td>\n",
       "      <td>0</td>\n",
       "    </tr>\n",
       "    <tr>\n",
       "      <th>16</th>\n",
       "      <td>0.000000</td>\n",
       "      <td>0.005128</td>\n",
       "      <td>0.010152</td>\n",
       "      <td>0.003510</td>\n",
       "      <td>0.007970</td>\n",
       "      <td>0.004731</td>\n",
       "      <td>0.538462</td>\n",
       "      <td>0.0</td>\n",
       "      <td>1.0</td>\n",
       "      <td>0.0</td>\n",
       "      <td>0</td>\n",
       "      <td>1</td>\n",
       "      <td>0</td>\n",
       "      <td>0</td>\n",
       "      <td>0</td>\n",
       "      <td>0</td>\n",
       "      <td>0</td>\n",
       "      <td>0</td>\n",
       "    </tr>\n",
       "    <tr>\n",
       "      <th>30</th>\n",
       "      <td>0.000000</td>\n",
       "      <td>0.002564</td>\n",
       "      <td>0.007614</td>\n",
       "      <td>0.014085</td>\n",
       "      <td>0.026957</td>\n",
       "      <td>0.016004</td>\n",
       "      <td>0.307692</td>\n",
       "      <td>0.0</td>\n",
       "      <td>1.0</td>\n",
       "      <td>0.0</td>\n",
       "      <td>0</td>\n",
       "      <td>1</td>\n",
       "      <td>0</td>\n",
       "      <td>0</td>\n",
       "      <td>1</td>\n",
       "      <td>0</td>\n",
       "      <td>1</td>\n",
       "      <td>0</td>\n",
       "    </tr>\n",
       "    <tr>\n",
       "      <th>31</th>\n",
       "      <td>0.000000</td>\n",
       "      <td>0.000000</td>\n",
       "      <td>0.000000</td>\n",
       "      <td>0.075000</td>\n",
       "      <td>0.084053</td>\n",
       "      <td>0.049902</td>\n",
       "      <td>0.576923</td>\n",
       "      <td>0.0</td>\n",
       "      <td>1.0</td>\n",
       "      <td>0.0</td>\n",
       "      <td>0</td>\n",
       "      <td>0</td>\n",
       "      <td>0</td>\n",
       "      <td>0</td>\n",
       "      <td>1</td>\n",
       "      <td>0</td>\n",
       "      <td>0</td>\n",
       "      <td>1</td>\n",
       "    </tr>\n",
       "    <tr>\n",
       "      <th>37</th>\n",
       "      <td>0.005495</td>\n",
       "      <td>0.010256</td>\n",
       "      <td>0.022843</td>\n",
       "      <td>0.000000</td>\n",
       "      <td>0.000000</td>\n",
       "      <td>0.000123</td>\n",
       "      <td>0.230769</td>\n",
       "      <td>1.0</td>\n",
       "      <td>0.0</td>\n",
       "      <td>0.0</td>\n",
       "      <td>0</td>\n",
       "      <td>1</td>\n",
       "      <td>0</td>\n",
       "      <td>0</td>\n",
       "      <td>0</td>\n",
       "      <td>0</td>\n",
       "      <td>0</td>\n",
       "      <td>0</td>\n",
       "    </tr>\n",
       "    <tr>\n",
       "      <th>48</th>\n",
       "      <td>0.000000</td>\n",
       "      <td>0.000000</td>\n",
       "      <td>0.002538</td>\n",
       "      <td>0.003578</td>\n",
       "      <td>0.008093</td>\n",
       "      <td>0.004805</td>\n",
       "      <td>0.153846</td>\n",
       "      <td>0.0</td>\n",
       "      <td>1.0</td>\n",
       "      <td>0.0</td>\n",
       "      <td>0</td>\n",
       "      <td>1</td>\n",
       "      <td>0</td>\n",
       "      <td>0</td>\n",
       "      <td>1</td>\n",
       "      <td>0</td>\n",
       "      <td>0</td>\n",
       "      <td>0</td>\n",
       "    </tr>\n",
       "  </tbody>\n",
       "</table>\n",
       "</div>"
      ],
      "text/plain": [
       "    count_payment_code_week  count_payment_code_month  \\\n",
       "1                  0.000000                  0.000000   \n",
       "7                  0.000000                  0.000000   \n",
       "11                 0.000000                  0.002564   \n",
       "12                 0.000000                  0.007692   \n",
       "14                 0.000000                  0.000000   \n",
       "16                 0.000000                  0.005128   \n",
       "30                 0.000000                  0.002564   \n",
       "31                 0.000000                  0.000000   \n",
       "37                 0.005495                  0.010256   \n",
       "48                 0.000000                  0.000000   \n",
       "\n",
       "    count_payment_code_3month  balanceJuin2021  nominal_interestJuin2021  \\\n",
       "1                    0.000000         0.003666                  0.006953   \n",
       "7                    0.005076         0.000139                  0.000456   \n",
       "11                   0.005076         0.012917                  0.024721   \n",
       "12                   0.015228         0.000000                  0.000000   \n",
       "14                   0.000000         0.026599                  0.049072   \n",
       "16                   0.010152         0.003510                  0.007970   \n",
       "30                   0.007614         0.014085                  0.026957   \n",
       "31                   0.000000         0.075000                  0.084053   \n",
       "37                   0.022843         0.000000                  0.000000   \n",
       "48                   0.002538         0.003578                  0.008093   \n",
       "\n",
       "    real_interestJuin2021       age  past_week  past_month  past_3months  \\\n",
       "1                0.004128  0.326923        0.0         1.0           0.0   \n",
       "7                0.000000  0.211538        1.0         0.0           0.0   \n",
       "11               0.014677  0.307692        0.0         1.0           0.0   \n",
       "12               0.000000  0.134615        1.0         0.0           0.0   \n",
       "14               0.029538  0.576923        0.0         0.0           1.0   \n",
       "16               0.004731  0.538462        0.0         1.0           0.0   \n",
       "30               0.016004  0.307692        0.0         1.0           0.0   \n",
       "31               0.049902  0.576923        0.0         1.0           0.0   \n",
       "37               0.000123  0.230769        1.0         0.0           0.0   \n",
       "48               0.004805  0.153846        0.0         1.0           0.0   \n",
       "\n",
       "    incredible  _MALE  _Divorced  _Other  _Single  _Widowed  _DH  _NH  \n",
       "1            0      1          0       0        1         0    1    0  \n",
       "7            0      1          0       0        0         0    0    1  \n",
       "11           0      1          0       0        0         0    1    0  \n",
       "12           0      1          0       0        1         0    0    1  \n",
       "14           0      1          0       0        0         0    1    0  \n",
       "16           0      1          0       0        0         0    0    0  \n",
       "30           0      1          0       0        1         0    1    0  \n",
       "31           0      0          0       0        1         0    0    1  \n",
       "37           0      1          0       0        0         0    0    0  \n",
       "48           0      1          0       0        1         0    0    0  "
      ]
     },
     "execution_count": 41,
     "metadata": {},
     "output_type": "execute_result"
    }
   ],
   "source": [
    "col_to_scale = ['age', 'count_payment_code_month'\n",
    "                , 'count_payment_code_week', 'count_payment_code_3month']\n",
    "\n",
    "scaler = MinMaxScaler()\n",
    "\n",
    "data2[col_to_scale] = scaler.fit_transform(data2[col_to_scale])\n",
    "data2.head(10)"
   ]
  },
  {
   "cell_type": "markdown",
   "id": "4a18036a",
   "metadata": {},
   "source": [
    "## Splitting data into training and test sets"
   ]
  },
  {
   "cell_type": "code",
   "execution_count": 42,
   "id": "a257f4f1",
   "metadata": {},
   "outputs": [],
   "source": [
    "X = data2.drop(columns=['incredible'])\n",
    "y = data2['incredible']"
   ]
  },
  {
   "cell_type": "code",
   "execution_count": 43,
   "id": "f3149283",
   "metadata": {},
   "outputs": [],
   "source": [
    "X_train, X_test, y_train, y_test = train_test_split(X, y, test_size=0.2\n",
    "                                                    , stratify=y, random_state=234)"
   ]
  },
  {
   "cell_type": "code",
   "execution_count": 44,
   "id": "14ba310f",
   "metadata": {
    "scrolled": true
   },
   "outputs": [
    {
     "data": {
      "text/plain": [
       "0    0.81105\n",
       "1    0.18895\n",
       "Name: incredible, dtype: float64"
      ]
     },
     "execution_count": 44,
     "metadata": {},
     "output_type": "execute_result"
    }
   ],
   "source": [
    "y_train.value_counts(normalize=True)"
   ]
  },
  {
   "cell_type": "code",
   "execution_count": 45,
   "id": "acb7a732",
   "metadata": {},
   "outputs": [
    {
     "data": {
      "text/plain": [
       "0    0.811081\n",
       "1    0.188919\n",
       "Name: incredible, dtype: float64"
      ]
     },
     "execution_count": 45,
     "metadata": {},
     "output_type": "execute_result"
    }
   ],
   "source": [
    "y_test.value_counts(normalize=True)"
   ]
  },
  {
   "cell_type": "markdown",
   "id": "08d79450",
   "metadata": {},
   "source": [
    "## Modeling"
   ]
  },
  {
   "cell_type": "markdown",
   "id": "a3e92c01",
   "metadata": {},
   "source": [
    "### Decision Tree Classification"
   ]
  },
  {
   "cell_type": "code",
   "execution_count": 46,
   "id": "87ef7717",
   "metadata": {},
   "outputs": [
    {
     "name": "stdout",
     "output_type": "stream",
     "text": [
      "Best criterion: gini\n",
      "Best splitter: best\n",
      "Best max_depth: 44\n"
     ]
    }
   ],
   "source": [
    "dec_tree = DecisionTreeClassifier()\n",
    "\n",
    "criterion = ['gini', 'entropy']\n",
    "splitter = ['best', 'random']\n",
    "max_depth = list(2 * np.array(range(1,40)))\n",
    "parameters = dict(criterion=criterion, splitter=splitter, max_depth=max_depth)\n",
    "\n",
    "gs = GridSearchCV(dec_tree, parameters, scoring='recall')\n",
    "gs.fit(X_train, y_train)\n",
    "\n",
    "print('Best criterion:', gs.best_estimator_.get_params()['criterion'])\n",
    "print('Best splitter:', gs.best_estimator_.get_params()['splitter'])\n",
    "print('Best max_depth:', gs.best_estimator_.get_params()['max_depth'])"
   ]
  },
  {
   "cell_type": "code",
   "execution_count": 47,
   "id": "41f47048",
   "metadata": {},
   "outputs": [],
   "source": [
    "dec_tree = DecisionTreeClassifier(criterion='gini', splitter='best', max_depth=44)\n",
    "\n",
    "dec_tree.fit(X_train,y_train)\n",
    "\n",
    "y_treepred = dec_tree.predict(X_test)"
   ]
  },
  {
   "cell_type": "code",
   "execution_count": 48,
   "id": "e366b2e7",
   "metadata": {
    "scrolled": true
   },
   "outputs": [
    {
     "data": {
      "image/png": "[encoded data removed]",
      "text/plain": [
       "<Figure size 432x288 with 2 Axes>"
      ]
     },
     "metadata": {
      "needs_background": "light"
     },
     "output_type": "display_data"
    },
    {
     "name": "stdout",
     "output_type": "stream",
     "text": [
      "Confusion Matrix\n"
     ]
    }
   ],
   "source": [
    "plot_confusion_matrix(dec_tree, X_test, y_test, values_format = 'd')\n",
    "plt.show()  \n",
    "print('Confusion Matrix')"
   ]
  },
  {
   "cell_type": "code",
   "execution_count": 49,
   "id": "d4785204",
   "metadata": {},
   "outputs": [
    {
     "name": "stdout",
     "output_type": "stream",
     "text": [
      "Results\n"
     ]
    },
    {
     "data": {
      "text/html": [
       "<div>\n",
       "<style scoped>\n",
       "    .dataframe tbody tr th:only-of-type {\n",
       "        vertical-align: middle;\n",
       "    }\n",
       "\n",
       "    .dataframe tbody tr th {\n",
       "        vertical-align: top;\n",
       "    }\n",
       "\n",
       "    .dataframe thead th {\n",
       "        text-align: right;\n",
       "    }\n",
       "</style>\n",
       "<table border=\"1\" class=\"dataframe\">\n",
       "  <thead>\n",
       "    <tr style=\"text-align: right;\">\n",
       "      <th></th>\n",
       "      <th>Values</th>\n",
       "    </tr>\n",
       "  </thead>\n",
       "  <tbody>\n",
       "    <tr>\n",
       "      <th>R-squared on the training set</th>\n",
       "      <td>0.959</td>\n",
       "    </tr>\n",
       "    <tr>\n",
       "      <th>Mean squared error</th>\n",
       "      <td>0.166</td>\n",
       "    </tr>\n",
       "    <tr>\n",
       "      <th>Accuracy score</th>\n",
       "      <td>0.834</td>\n",
       "    </tr>\n",
       "    <tr>\n",
       "      <th>Precision score</th>\n",
       "      <td>0.567</td>\n",
       "    </tr>\n",
       "    <tr>\n",
       "      <th>Recall score</th>\n",
       "      <td>0.505</td>\n",
       "    </tr>\n",
       "    <tr>\n",
       "      <th>F1 score</th>\n",
       "      <td>0.534</td>\n",
       "    </tr>\n",
       "  </tbody>\n",
       "</table>\n",
       "</div>"
      ],
      "text/plain": [
       "                               Values\n",
       "R-squared on the training set   0.959\n",
       "Mean squared error              0.166\n",
       "Accuracy score                  0.834\n",
       "Precision score                 0.567\n",
       "Recall score                    0.505\n",
       "F1 score                        0.534"
      ]
     },
     "execution_count": 49,
     "metadata": {},
     "output_type": "execute_result"
    }
   ],
   "source": [
    "dec_trainr2 = round(dec_tree.score(X_train, y_train), 3)\n",
    "dec_mse = round(mean_squared_error(y_test, y_treepred), 3)\n",
    "dec_ac = round(accuracy_score(y_test, y_treepred), 3)\n",
    "dec_prec = round(precision_score(y_test, y_treepred), 3)\n",
    "dec_rec = round(recall_score(y_test, y_treepred), 3)\n",
    "dec_f1 = round(f1_score(y_test, y_treepred), 3)\n",
    "\n",
    "print('Results')\n",
    "dec_results = pd.DataFrame(\n",
    "    index=['R-squared on the training set', 'Mean squared error', 'Accuracy score'\n",
    "           , 'Precision score', 'Recall score', 'F1 score']\n",
    "    , data={'Values': [dec_trainr2, dec_mse, dec_ac, dec_prec, dec_rec, dec_f1]}\n",
    ")\n",
    "dec_results"
   ]
  },
  {
   "cell_type": "markdown",
   "id": "8d53d275",
   "metadata": {},
   "source": [
    "### k-Nearest Neighbors Classifier using Manhattan distance"
   ]
  },
  {
   "cell_type": "code",
   "execution_count": 51,
   "id": "47fe67dc",
   "metadata": {},
   "outputs": [
    {
     "name": "stdout",
     "output_type": "stream",
     "text": [
      "Optimal k: 1\n",
      "Maximum recall score: 0.5901060070671378\n"
     ]
    },
    {
     "data": {
      "image/png": "[encoded data removed]",
      "text/plain": [
       "<Figure size 432x288 with 1 Axes>"
      ]
     },
     "metadata": {
      "needs_background": "light"
     },
     "output_type": "display_data"
    }
   ],
   "source": [
    "# Calculate recall scores corresponding to k\n",
    "recall_scores = {}\n",
    "for i in range(1,30):\n",
    "    knn = KNeighborsClassifier(n_neighbors=i, metric = 'minkowski', p = 1)\n",
    "    knn.fit(X_train, y_train)\n",
    "    y_pred = knn.predict(X_test)\n",
    "    recall_scores[i] = recall_score(y_test, y_pred)\n",
    "    \n",
    "# Plot recall scores\n",
    "plt.plot(list(recall_scores.keys()),list(recall_scores.values()))\n",
    "optimal_k = max(recall_scores.items(), key = lambda k : k[1])\n",
    "print('Optimal k: {}'.format(optimal_k[0]))\n",
    "print('Maximum recall score: {}'.format(max(recall_scores.values())))"
   ]
  },
  {
   "cell_type": "code",
   "execution_count": 52,
   "id": "0d410fcf",
   "metadata": {},
   "outputs": [],
   "source": [
    "# Run the model with Mahattan distance and k = 1.\n",
    "# Set the algorith at its default of 'auto' for the model to choose the algorithm that performs best on the dataset.\n",
    "\n",
    "knn1 = KNeighborsClassifier(n_neighbors = 1, metric = 'minkowski', p = 1)\n",
    "knn1.fit(X_train, y_train)\n",
    "\n",
    "# Predict on the test set\n",
    "y_knn1pred = knn1.predict(X_test)"
   ]
  },
  {
   "cell_type": "code",
   "execution_count": 53,
   "id": "46076d1c",
   "metadata": {
    "scrolled": false
   },
   "outputs": [
    {
     "data": {
      "image/png": "[encoded data removed]",
      "text/plain": [
       "<Figure size 432x288 with 2 Axes>"
      ]
     },
     "metadata": {
      "needs_background": "light"
     },
     "output_type": "display_data"
    },
    {
     "name": "stdout",
     "output_type": "stream",
     "text": [
      "Confusion Matrix\n"
     ]
    }
   ],
   "source": [
    "plot_confusion_matrix(knn1, X_test, y_test, values_format = 'd')\n",
    "plt.show()  \n",
    "print('Confusion Matrix')"
   ]
  },
  {
   "cell_type": "code",
   "execution_count": 65,
   "id": "1b7ed054",
   "metadata": {},
   "outputs": [
    {
     "data": {
      "text/html": [
       "<div>\n",
       "<style scoped>\n",
       "    .dataframe tbody tr th:only-of-type {\n",
       "        vertical-align: middle;\n",
       "    }\n",
       "\n",
       "    .dataframe tbody tr th {\n",
       "        vertical-align: top;\n",
       "    }\n",
       "\n",
       "    .dataframe thead th {\n",
       "        text-align: right;\n",
       "    }\n",
       "</style>\n",
       "<table border=\"1\" class=\"dataframe\">\n",
       "  <thead>\n",
       "    <tr style=\"text-align: right;\">\n",
       "      <th></th>\n",
       "      <th>Values</th>\n",
       "    </tr>\n",
       "  </thead>\n",
       "  <tbody>\n",
       "    <tr>\n",
       "      <th>R-squared on the training set</th>\n",
       "      <td>0.949</td>\n",
       "    </tr>\n",
       "    <tr>\n",
       "      <th>Mean squared error</th>\n",
       "      <td>0.165</td>\n",
       "    </tr>\n",
       "    <tr>\n",
       "      <th>Accuracy score</th>\n",
       "      <td>0.835</td>\n",
       "    </tr>\n",
       "    <tr>\n",
       "      <th>Precision score</th>\n",
       "      <td>0.560</td>\n",
       "    </tr>\n",
       "    <tr>\n",
       "      <th>Recall score</th>\n",
       "      <td>0.590</td>\n",
       "    </tr>\n",
       "    <tr>\n",
       "      <th>F1 score</th>\n",
       "      <td>0.575</td>\n",
       "    </tr>\n",
       "  </tbody>\n",
       "</table>\n",
       "</div>"
      ],
      "text/plain": [
       "                               Values\n",
       "R-squared on the training set   0.949\n",
       "Mean squared error              0.165\n",
       "Accuracy score                  0.835\n",
       "Precision score                 0.560\n",
       "Recall score                    0.590\n",
       "F1 score                        0.575"
      ]
     },
     "execution_count": 65,
     "metadata": {},
     "output_type": "execute_result"
    }
   ],
   "source": [
    "knn1_trainr2 = round(knn1.score(X_train, y_train), 3)\n",
    "knn1_mse = round(mean_squared_error(y_test, y_knn1pred), 3)\n",
    "knn1_ac = round(accuracy_score(y_test, y_knn1pred), 3)\n",
    "knn1_prec = round(precision_score(y_test, y_knn1pred), 3)\n",
    "knn1_rec = round(recall_score(y_test, y_knn1pred), 3)\n",
    "knn1_f1 = round(f1_score(y_test, y_knn1pred), 3)\n",
    "\n",
    "knn1_results = pd.DataFrame(\n",
    "    index=['R-squared on the training set', 'Mean squared error', 'Accuracy score'\n",
    "           , 'Precision score', 'Recall score', 'F1 score']\n",
    "    , data={'Values': [knn1_trainr2, knn1_mse, knn1_ac, knn1_prec, knn1_rec, knn1_f1]}\n",
    ")\n",
    "knn1_results"
   ]
  },
  {
   "cell_type": "markdown",
   "id": "dfafb6a9",
   "metadata": {},
   "source": [
    "### k-NN Classifier using Euclidean distance"
   ]
  },
  {
   "cell_type": "code",
   "execution_count": 50,
   "id": "5e66095b",
   "metadata": {},
   "outputs": [
    {
     "name": "stdout",
     "output_type": "stream",
     "text": [
      "Optimal k: 1\n",
      "Maximum recall score: 0.5742049469964664\n"
     ]
    },
    {
     "data": {
      "image/png": "[encoded data removed]",
      "text/plain": [
       "<Figure size 432x288 with 1 Axes>"
      ]
     },
     "metadata": {
      "needs_background": "light"
     },
     "output_type": "display_data"
    }
   ],
   "source": [
    "# Calculate recall scores corresponding to k\n",
    "recall_scores = {}\n",
    "for i in range(1,30):\n",
    "    knn = KNeighborsClassifier(n_neighbors=i, metric = 'minkowski', p = 2)\n",
    "    knn.fit(X_train, y_train)\n",
    "    y_pred = knn.predict(X_test)\n",
    "    recall_scores[i] = recall_score(y_test, y_pred)\n",
    "    \n",
    "# Plot recall scores\n",
    "plt.plot(list(recall_scores.keys()),list(recall_scores.values()))\n",
    "optimal_k = max(recall_scores.items(), key = lambda k : k[1])\n",
    "print('Optimal k: {}'.format(optimal_k[0]))\n",
    "print('Maximum recall score: {}'.format(max(recall_scores.values())))"
   ]
  },
  {
   "cell_type": "code",
   "execution_count": 55,
   "id": "adbec64c",
   "metadata": {},
   "outputs": [],
   "source": [
    "# Run the model with k = 1\n",
    "\n",
    "knn2 = KNeighborsClassifier(n_neighbors = 1, metric = 'minkowski', p = 2)\n",
    "knn2.fit(X_train, y_train)\n",
    "\n",
    "# Predict on the test set\n",
    "y_knn2pred = knn2.predict(X_test)"
   ]
  },
  {
   "cell_type": "code",
   "execution_count": 56,
   "id": "607a2928",
   "metadata": {},
   "outputs": [
    {
     "data": {
      "image/png": "[encoded data removed]",
      "text/plain": [
       "<Figure size 432x288 with 2 Axes>"
      ]
     },
     "metadata": {
      "needs_background": "light"
     },
     "output_type": "display_data"
    },
    {
     "name": "stdout",
     "output_type": "stream",
     "text": [
      "Confusion Matrix\n"
     ]
    }
   ],
   "source": [
    "plot_confusion_matrix(knn2, X_test, y_test, values_format = 'd')\n",
    "plt.show()\n",
    "print('Confusion Matrix')"
   ]
  },
  {
   "cell_type": "code",
   "execution_count": 66,
   "id": "8b9a9e80",
   "metadata": {},
   "outputs": [
    {
     "data": {
      "text/html": [
       "<div>\n",
       "<style scoped>\n",
       "    .dataframe tbody tr th:only-of-type {\n",
       "        vertical-align: middle;\n",
       "    }\n",
       "\n",
       "    .dataframe tbody tr th {\n",
       "        vertical-align: top;\n",
       "    }\n",
       "\n",
       "    .dataframe thead th {\n",
       "        text-align: right;\n",
       "    }\n",
       "</style>\n",
       "<table border=\"1\" class=\"dataframe\">\n",
       "  <thead>\n",
       "    <tr style=\"text-align: right;\">\n",
       "      <th></th>\n",
       "      <th>Values</th>\n",
       "    </tr>\n",
       "  </thead>\n",
       "  <tbody>\n",
       "    <tr>\n",
       "      <th>R-squared on the training set</th>\n",
       "      <td>0.949</td>\n",
       "    </tr>\n",
       "    <tr>\n",
       "      <th>Mean squared error</th>\n",
       "      <td>0.169</td>\n",
       "    </tr>\n",
       "    <tr>\n",
       "      <th>Accuracy score</th>\n",
       "      <td>0.831</td>\n",
       "    </tr>\n",
       "    <tr>\n",
       "      <th>Precision score</th>\n",
       "      <td>0.550</td>\n",
       "    </tr>\n",
       "    <tr>\n",
       "      <th>Recall score</th>\n",
       "      <td>0.574</td>\n",
       "    </tr>\n",
       "    <tr>\n",
       "      <th>F1 score</th>\n",
       "      <td>0.562</td>\n",
       "    </tr>\n",
       "  </tbody>\n",
       "</table>\n",
       "</div>"
      ],
      "text/plain": [
       "                               Values\n",
       "R-squared on the training set   0.949\n",
       "Mean squared error              0.169\n",
       "Accuracy score                  0.831\n",
       "Precision score                 0.550\n",
       "Recall score                    0.574\n",
       "F1 score                        0.562"
      ]
     },
     "execution_count": 66,
     "metadata": {},
     "output_type": "execute_result"
    }
   ],
   "source": [
    "knn2_trainr2 = round(knn2.score(X_train, y_train), 3)\n",
    "knn2_mse = round(mean_squared_error(y_test, y_knn2pred), 3)\n",
    "knn2_ac = round(accuracy_score(y_test, y_knn2pred), 3)\n",
    "knn2_prec = round(precision_score(y_test, y_knn2pred), 3)\n",
    "knn2_rec = round(recall_score(y_test, y_knn2pred), 3)\n",
    "knn2_f1 = round(f1_score(y_test, y_knn2pred), 3)\n",
    "\n",
    "knn2_results = pd.DataFrame(\n",
    "    index=['R-squared on the training set', 'Mean squared error', 'Accuracy score'\n",
    "           , 'Precision score', 'Recall score', 'F1 score']\n",
    "    , data={'Values': [knn2_trainr2, knn2_mse, knn2_ac, knn2_prec, knn2_rec, knn2_f1]}\n",
    ")\n",
    "knn2_results"
   ]
  },
  {
   "cell_type": "markdown",
   "id": "da2c4ec9",
   "metadata": {},
   "source": [
    "### Logistic Regression"
   ]
  },
  {
   "cell_type": "markdown",
   "id": "9cf1b47b",
   "metadata": {},
   "source": [
    "#### Check for multicollinearity among explanatory variables"
   ]
  },
  {
   "cell_type": "code",
   "execution_count": 58,
   "id": "372b9645",
   "metadata": {
    "scrolled": false
   },
   "outputs": [
    {
     "data": {
      "image/png": "[encoded data removed]",
      "text/plain": [
       "<Figure size 720x504 with 1 Axes>"
      ]
     },
     "metadata": {
      "needs_background": "light"
     },
     "output_type": "display_data"
    }
   ],
   "source": [
    "# Correlation check for continuous variables\n",
    "\n",
    "fig, ax = plt.subplots(figsize=(10, 7))\n",
    "sns.heatmap(\n",
    "        data.corr(), \n",
    "        cmap = sns.diverging_palette(220, 10, as_cmap = True),\n",
    "        square=True, \n",
    "        cbar=False,\n",
    "        ax=ax,\n",
    "        annot=True, \n",
    "        linewidths=0.1,vmax=1.0, linecolor='white',\n",
    "        annot_kws={'fontsize':12})\n",
    "plt.show()"
   ]
  },
  {
   "cell_type": "code",
   "execution_count": 59,
   "id": "301f7c2b",
   "metadata": {},
   "outputs": [
    {
     "data": {
      "text/html": [
       "<div>\n",
       "<style scoped>\n",
       "    .dataframe tbody tr th:only-of-type {\n",
       "        vertical-align: middle;\n",
       "    }\n",
       "\n",
       "    .dataframe tbody tr th {\n",
       "        vertical-align: top;\n",
       "    }\n",
       "\n",
       "    .dataframe thead th {\n",
       "        text-align: right;\n",
       "    }\n",
       "</style>\n",
       "<table border=\"1\" class=\"dataframe\">\n",
       "  <thead>\n",
       "    <tr style=\"text-align: right;\">\n",
       "      <th></th>\n",
       "      <th>variable</th>\n",
       "      <th>VIF</th>\n",
       "    </tr>\n",
       "  </thead>\n",
       "  <tbody>\n",
       "    <tr>\n",
       "      <th>0</th>\n",
       "      <td>count_payment_code_week</td>\n",
       "      <td>4.427929</td>\n",
       "    </tr>\n",
       "    <tr>\n",
       "      <th>1</th>\n",
       "      <td>count_payment_code_month</td>\n",
       "      <td>10.174251</td>\n",
       "    </tr>\n",
       "    <tr>\n",
       "      <th>2</th>\n",
       "      <td>count_payment_code_3month</td>\n",
       "      <td>5.806546</td>\n",
       "    </tr>\n",
       "    <tr>\n",
       "      <th>3</th>\n",
       "      <td>balanceJuin2021</td>\n",
       "      <td>17.537746</td>\n",
       "    </tr>\n",
       "    <tr>\n",
       "      <th>4</th>\n",
       "      <td>nominal_interestJuin2021</td>\n",
       "      <td>18.416752</td>\n",
       "    </tr>\n",
       "    <tr>\n",
       "      <th>5</th>\n",
       "      <td>real_interestJuin2021</td>\n",
       "      <td>3.289046</td>\n",
       "    </tr>\n",
       "    <tr>\n",
       "      <th>6</th>\n",
       "      <td>age</td>\n",
       "      <td>6.143897</td>\n",
       "    </tr>\n",
       "    <tr>\n",
       "      <th>7</th>\n",
       "      <td>past_week</td>\n",
       "      <td>6.663695</td>\n",
       "    </tr>\n",
       "    <tr>\n",
       "      <th>8</th>\n",
       "      <td>past_month</td>\n",
       "      <td>3.093460</td>\n",
       "    </tr>\n",
       "    <tr>\n",
       "      <th>9</th>\n",
       "      <td>past_3months</td>\n",
       "      <td>1.988571</td>\n",
       "    </tr>\n",
       "    <tr>\n",
       "      <th>10</th>\n",
       "      <td>_MALE</td>\n",
       "      <td>3.305081</td>\n",
       "    </tr>\n",
       "    <tr>\n",
       "      <th>11</th>\n",
       "      <td>_Divorced</td>\n",
       "      <td>1.002863</td>\n",
       "    </tr>\n",
       "    <tr>\n",
       "      <th>12</th>\n",
       "      <td>_Other</td>\n",
       "      <td>1.125577</td>\n",
       "    </tr>\n",
       "    <tr>\n",
       "      <th>13</th>\n",
       "      <td>_Single</td>\n",
       "      <td>1.738727</td>\n",
       "    </tr>\n",
       "    <tr>\n",
       "      <th>14</th>\n",
       "      <td>_Widowed</td>\n",
       "      <td>1.000827</td>\n",
       "    </tr>\n",
       "    <tr>\n",
       "      <th>15</th>\n",
       "      <td>_DH</td>\n",
       "      <td>1.457848</td>\n",
       "    </tr>\n",
       "    <tr>\n",
       "      <th>16</th>\n",
       "      <td>_NH</td>\n",
       "      <td>2.409403</td>\n",
       "    </tr>\n",
       "  </tbody>\n",
       "</table>\n",
       "</div>"
      ],
      "text/plain": [
       "                     variable        VIF\n",
       "0     count_payment_code_week   4.427929\n",
       "1    count_payment_code_month  10.174251\n",
       "2   count_payment_code_3month   5.806546\n",
       "3             balanceJuin2021  17.537746\n",
       "4    nominal_interestJuin2021  18.416752\n",
       "5       real_interestJuin2021   3.289046\n",
       "6                         age   6.143897\n",
       "7                   past_week   6.663695\n",
       "8                  past_month   3.093460\n",
       "9                past_3months   1.988571\n",
       "10                      _MALE   3.305081\n",
       "11                  _Divorced   1.002863\n",
       "12                     _Other   1.125577\n",
       "13                    _Single   1.738727\n",
       "14                   _Widowed   1.000827\n",
       "15                        _DH   1.457848\n",
       "16                        _NH   2.409403"
      ]
     },
     "execution_count": 59,
     "metadata": {},
     "output_type": "execute_result"
    }
   ],
   "source": [
    "X1 = data2.drop(columns='incredible')\n",
    "\n",
    "vif = pd.DataFrame()\n",
    "vif['variable'] = X1.columns\n",
    "vif['VIF'] = [variance_inflation_factor(X1.values, i) for i in range(X1.shape[1])]\n",
    "vif"
   ]
  },
  {
   "cell_type": "markdown",
   "id": "e32afd64",
   "metadata": {},
   "source": [
    "Strong correlation exhibit between the 3 groups of variables:\n",
    "* variables representing the number of services used by customers in the previous week, a month and three months from December 31, 2020 - the `count_payment_code` variables (correlation greater than 0.8)\n",
    "* variables indicating customer's balance in June, as well as the nominal and real interest rates (correlation greater than 0.8)\n",
    "* variables identifying the customer's most recent transaction - `past_week` and `past_month` (correlation greater than 0.7)\n",
    "\n",
    "<br>This resulted in high VIF values for the corresponding variables. To that end, we decided to discard some of the variables in order to avoid multicollinearity. The variables to be discarded are: `count_payment_code_month`, `nominal_interestJuin2021`, and `past_week`."
   ]
  },
  {
   "cell_type": "code",
   "execution_count": 60,
   "id": "79a51140",
   "metadata": {
    "scrolled": false
   },
   "outputs": [
    {
     "data": {
      "text/html": [
       "<div>\n",
       "<style scoped>\n",
       "    .dataframe tbody tr th:only-of-type {\n",
       "        vertical-align: middle;\n",
       "    }\n",
       "\n",
       "    .dataframe tbody tr th {\n",
       "        vertical-align: top;\n",
       "    }\n",
       "\n",
       "    .dataframe thead th {\n",
       "        text-align: right;\n",
       "    }\n",
       "</style>\n",
       "<table border=\"1\" class=\"dataframe\">\n",
       "  <thead>\n",
       "    <tr style=\"text-align: right;\">\n",
       "      <th></th>\n",
       "      <th>variable</th>\n",
       "      <th>VIF</th>\n",
       "    </tr>\n",
       "  </thead>\n",
       "  <tbody>\n",
       "    <tr>\n",
       "      <th>0</th>\n",
       "      <td>count_payment_code_week</td>\n",
       "      <td>1.825968</td>\n",
       "    </tr>\n",
       "    <tr>\n",
       "      <th>1</th>\n",
       "      <td>count_payment_code_3month</td>\n",
       "      <td>2.281685</td>\n",
       "    </tr>\n",
       "    <tr>\n",
       "      <th>2</th>\n",
       "      <td>balanceJuin2021</td>\n",
       "      <td>3.189845</td>\n",
       "    </tr>\n",
       "    <tr>\n",
       "      <th>3</th>\n",
       "      <td>real_interestJuin2021</td>\n",
       "      <td>3.134501</td>\n",
       "    </tr>\n",
       "    <tr>\n",
       "      <th>4</th>\n",
       "      <td>age</td>\n",
       "      <td>3.875217</td>\n",
       "    </tr>\n",
       "    <tr>\n",
       "      <th>5</th>\n",
       "      <td>past_month</td>\n",
       "      <td>1.369847</td>\n",
       "    </tr>\n",
       "    <tr>\n",
       "      <th>6</th>\n",
       "      <td>past_3months</td>\n",
       "      <td>1.199800</td>\n",
       "    </tr>\n",
       "    <tr>\n",
       "      <th>7</th>\n",
       "      <td>_MALE</td>\n",
       "      <td>2.951654</td>\n",
       "    </tr>\n",
       "    <tr>\n",
       "      <th>8</th>\n",
       "      <td>_Divorced</td>\n",
       "      <td>1.002636</td>\n",
       "    </tr>\n",
       "    <tr>\n",
       "      <th>9</th>\n",
       "      <td>_Other</td>\n",
       "      <td>1.094393</td>\n",
       "    </tr>\n",
       "    <tr>\n",
       "      <th>10</th>\n",
       "      <td>_Single</td>\n",
       "      <td>1.513438</td>\n",
       "    </tr>\n",
       "    <tr>\n",
       "      <th>11</th>\n",
       "      <td>_Widowed</td>\n",
       "      <td>1.000784</td>\n",
       "    </tr>\n",
       "    <tr>\n",
       "      <th>12</th>\n",
       "      <td>_DH</td>\n",
       "      <td>1.429958</td>\n",
       "    </tr>\n",
       "    <tr>\n",
       "      <th>13</th>\n",
       "      <td>_NH</td>\n",
       "      <td>2.206119</td>\n",
       "    </tr>\n",
       "  </tbody>\n",
       "</table>\n",
       "</div>"
      ],
      "text/plain": [
       "                     variable       VIF\n",
       "0     count_payment_code_week  1.825968\n",
       "1   count_payment_code_3month  2.281685\n",
       "2             balanceJuin2021  3.189845\n",
       "3       real_interestJuin2021  3.134501\n",
       "4                         age  3.875217\n",
       "5                  past_month  1.369847\n",
       "6                past_3months  1.199800\n",
       "7                       _MALE  2.951654\n",
       "8                   _Divorced  1.002636\n",
       "9                      _Other  1.094393\n",
       "10                    _Single  1.513438\n",
       "11                   _Widowed  1.000784\n",
       "12                        _DH  1.429958\n",
       "13                        _NH  2.206119"
      ]
     },
     "execution_count": 60,
     "metadata": {},
     "output_type": "execute_result"
    }
   ],
   "source": [
    "X1 = data2.drop(columns=['incredible', 'count_payment_code_month'\n",
    "               , 'nominal_interestJuin2021', 'past_week'])\n",
    "\n",
    "vif = pd.DataFrame()\n",
    "vif['variable'] = X1.columns\n",
    "vif['VIF'] = [variance_inflation_factor(X1.values, i) for i in range(X1.shape[1])]\n",
    "vif"
   ]
  },
  {
   "cell_type": "markdown",
   "id": "04e7d32d",
   "metadata": {},
   "source": [
    "The VIF values for all variables are lower than 5, indicating that there is no significant multicollinearity between the explanatory variables."
   ]
  },
  {
   "cell_type": "markdown",
   "id": "0c2d6833",
   "metadata": {},
   "source": [
    "#### Check for the independence of observations"
   ]
  },
  {
   "cell_type": "code",
   "execution_count": 61,
   "id": "67a63553",
   "metadata": {},
   "outputs": [
    {
     "data": {
      "image/png": "[encoded data removed]",
      "text/plain": [
       "<Figure size 576x360 with 1 Axes>"
      ]
     },
     "metadata": {
      "needs_background": "light"
     },
     "output_type": "display_data"
    }
   ],
   "source": [
    "# Setup logistic regression model using GLM method so that we can retrieve residuals\n",
    "logit_results = GLM(y_train, X_train, family=families.Binomial()).fit()\n",
    "\n",
    "# Setup plot \n",
    "fig = plt.figure(figsize=(8,5))\n",
    "ax = fig.add_subplot(111, title=\"Residual Series Plot\",\n",
    "                     xlabel=\"Index Number\", \n",
    "                     ylabel=\"Deviance Residuals\")\n",
    "\n",
    "# Generate residual series plot using standardized deviance residuals\n",
    "ax.plot(X_train.index.tolist(), stats.zscore(logit_results.resid_deviance))\n",
    "\n",
    "# Draw horizontal line at y=0\n",
    "plt.axhline(y = 0, ls=\"--\", color='red');"
   ]
  },
  {
   "cell_type": "markdown",
   "id": "61878af2",
   "metadata": {},
   "source": [
    "Since the residuals in the plot above appear to be randomly scattered around the centerline of zero, we can infer that the assumption of independent observations is satisfied."
   ]
  },
  {
   "cell_type": "markdown",
   "id": "96a4414c",
   "metadata": {},
   "source": [
    "#### Declare a new set of explanatory for the logistic regression model"
   ]
  },
  {
   "cell_type": "code",
   "execution_count": 62,
   "id": "fa001dd4",
   "metadata": {},
   "outputs": [],
   "source": [
    "X1_train, X1_test, y1_train, y1_test = train_test_split(X1, y, test_size=0.2\n",
    "                                                        , stratify=y, random_state=234)"
   ]
  },
  {
   "cell_type": "markdown",
   "id": "f412c79b",
   "metadata": {},
   "source": [
    "#### Apply the model"
   ]
  },
  {
   "cell_type": "code",
   "execution_count": 63,
   "id": "b65d0816",
   "metadata": {},
   "outputs": [],
   "source": [
    "poly = PolynomialFeatures(degree=2, include_bias=False)\n",
    "\n",
    "X_train_pr = poly.fit_transform(X1_train)\n",
    "X_test_pr = poly.fit_transform(X1_test)"
   ]
  },
  {
   "cell_type": "code",
   "execution_count": 64,
   "id": "28558047",
   "metadata": {},
   "outputs": [
    {
     "name": "stdout",
     "output_type": "stream",
     "text": [
      "Best C: 100000000.0\n"
     ]
    }
   ],
   "source": [
    "log = LogisticRegression(max_iter=1000000)\n",
    "\n",
    "C = np.logspace(-5, 8, 15)\n",
    "parameters = dict(C=C)\n",
    "\n",
    "gs1 = GridSearchCV(log, parameters, scoring='recall')\n",
    "gs1.fit(X_train_pr, y1_train)\n",
    "\n",
    "print('Best C:', gs1.best_estimator_.get_params()['C'])"
   ]
  },
  {
   "cell_type": "code",
   "execution_count": 67,
   "id": "0b976f6b",
   "metadata": {},
   "outputs": [],
   "source": [
    "log = LogisticRegression(C=100000000, max_iter=100000)\n",
    "log.fit(X_train_pr, y1_train)\n",
    "y_logpred = log.predict(X_test_pr)"
   ]
  },
  {
   "cell_type": "code",
   "execution_count": 68,
   "id": "64b18122",
   "metadata": {},
   "outputs": [
    {
     "data": {
      "image/png": "[encoded data removed]",
      "text/plain": [
       "<Figure size 432x288 with 2 Axes>"
      ]
     },
     "metadata": {
      "needs_background": "light"
     },
     "output_type": "display_data"
    },
    {
     "name": "stdout",
     "output_type": "stream",
     "text": [
      "Confusion Matrix\n"
     ]
    }
   ],
   "source": [
    "plot_confusion_matrix(log, X_test_pr, y1_test, values_format = 'd')\n",
    "plt.show()\n",
    "print('Confusion Matrix')"
   ]
  },
  {
   "cell_type": "code",
   "execution_count": 69,
   "id": "20003890",
   "metadata": {},
   "outputs": [
    {
     "data": {
      "text/html": [
       "<div>\n",
       "<style scoped>\n",
       "    .dataframe tbody tr th:only-of-type {\n",
       "        vertical-align: middle;\n",
       "    }\n",
       "\n",
       "    .dataframe tbody tr th {\n",
       "        vertical-align: top;\n",
       "    }\n",
       "\n",
       "    .dataframe thead th {\n",
       "        text-align: right;\n",
       "    }\n",
       "</style>\n",
       "<table border=\"1\" class=\"dataframe\">\n",
       "  <thead>\n",
       "    <tr style=\"text-align: right;\">\n",
       "      <th></th>\n",
       "      <th>Values</th>\n",
       "    </tr>\n",
       "  </thead>\n",
       "  <tbody>\n",
       "    <tr>\n",
       "      <th>R-squared on the training set</th>\n",
       "      <td>0.822</td>\n",
       "    </tr>\n",
       "    <tr>\n",
       "      <th>Mean squared error</th>\n",
       "      <td>0.174</td>\n",
       "    </tr>\n",
       "    <tr>\n",
       "      <th>Accuracy score</th>\n",
       "      <td>0.826</td>\n",
       "    </tr>\n",
       "    <tr>\n",
       "      <th>Precision score</th>\n",
       "      <td>0.641</td>\n",
       "    </tr>\n",
       "    <tr>\n",
       "      <th>Recall score</th>\n",
       "      <td>0.177</td>\n",
       "    </tr>\n",
       "    <tr>\n",
       "      <th>F1 score</th>\n",
       "      <td>0.277</td>\n",
       "    </tr>\n",
       "  </tbody>\n",
       "</table>\n",
       "</div>"
      ],
      "text/plain": [
       "                               Values\n",
       "R-squared on the training set   0.822\n",
       "Mean squared error              0.174\n",
       "Accuracy score                  0.826\n",
       "Precision score                 0.641\n",
       "Recall score                    0.177\n",
       "F1 score                        0.277"
      ]
     },
     "execution_count": 69,
     "metadata": {},
     "output_type": "execute_result"
    }
   ],
   "source": [
    "log_trainr2 = round(log.score(X_train_pr, y1_train), 3)\n",
    "log_mse = round(mean_squared_error(y1_test, y_logpred), 3)\n",
    "log_ac = round(accuracy_score(y1_test, y_logpred), 3)\n",
    "log_prec = round(precision_score(y1_test, y_logpred), 3)\n",
    "log_rec = round(recall_score(y1_test, y_logpred), 3)\n",
    "log_f1 = round(f1_score(y1_test, y_logpred), 3)\n",
    "\n",
    "log_results = pd.DataFrame(\n",
    "    index=['R-squared on the training set', 'Mean squared error', 'Accuracy score'\n",
    "           , 'Precision score', 'Recall score', 'F1 score']\n",
    "    , data={'Values': [log_trainr2, log_mse, log_ac, log_prec, log_rec, log_f1]}\n",
    ")\n",
    "log_results"
   ]
  },
  {
   "cell_type": "markdown",
   "id": "6e679a8a",
   "metadata": {},
   "source": [
    "### Model Evaluation"
   ]
  },
  {
   "cell_type": "code",
   "execution_count": 71,
   "id": "718397a6",
   "metadata": {},
   "outputs": [
    {
     "data": {
      "text/html": [
       "<div>\n",
       "<style scoped>\n",
       "    .dataframe tbody tr th:only-of-type {\n",
       "        vertical-align: middle;\n",
       "    }\n",
       "\n",
       "    .dataframe tbody tr th {\n",
       "        vertical-align: top;\n",
       "    }\n",
       "\n",
       "    .dataframe thead th {\n",
       "        text-align: right;\n",
       "    }\n",
       "</style>\n",
       "<table border=\"1\" class=\"dataframe\">\n",
       "  <thead>\n",
       "    <tr style=\"text-align: right;\">\n",
       "      <th>Criteria</th>\n",
       "      <th>Accuracy score</th>\n",
       "      <th>F1 score</th>\n",
       "      <th>Mean squared error</th>\n",
       "      <th>Precision score</th>\n",
       "      <th>R-squared on the training set</th>\n",
       "      <th>Recall score</th>\n",
       "    </tr>\n",
       "    <tr>\n",
       "      <th>Models</th>\n",
       "      <th></th>\n",
       "      <th></th>\n",
       "      <th></th>\n",
       "      <th></th>\n",
       "      <th></th>\n",
       "      <th></th>\n",
       "    </tr>\n",
       "  </thead>\n",
       "  <tbody>\n",
       "    <tr>\n",
       "      <th>Decision Tree Classifier</th>\n",
       "      <td>0.834</td>\n",
       "      <td>0.534</td>\n",
       "      <td>0.166</td>\n",
       "      <td>0.567</td>\n",
       "      <td>0.959</td>\n",
       "      <td>0.505</td>\n",
       "    </tr>\n",
       "    <tr>\n",
       "      <th>k-NN Classifier - Manhattan distance</th>\n",
       "      <td>0.835</td>\n",
       "      <td>0.575</td>\n",
       "      <td>0.165</td>\n",
       "      <td>0.560</td>\n",
       "      <td>0.949</td>\n",
       "      <td>0.590</td>\n",
       "    </tr>\n",
       "    <tr>\n",
       "      <th>k-NN Classifier - Euclidean distance</th>\n",
       "      <td>0.831</td>\n",
       "      <td>0.562</td>\n",
       "      <td>0.169</td>\n",
       "      <td>0.550</td>\n",
       "      <td>0.949</td>\n",
       "      <td>0.574</td>\n",
       "    </tr>\n",
       "    <tr>\n",
       "      <th>Logistic Regression</th>\n",
       "      <td>0.826</td>\n",
       "      <td>0.277</td>\n",
       "      <td>0.174</td>\n",
       "      <td>0.641</td>\n",
       "      <td>0.822</td>\n",
       "      <td>0.177</td>\n",
       "    </tr>\n",
       "  </tbody>\n",
       "</table>\n",
       "</div>"
      ],
      "text/plain": [
       "Criteria                              Accuracy score  F1 score  \\\n",
       "Models                                                           \n",
       "Decision Tree Classifier                       0.834     0.534   \n",
       "k-NN Classifier - Manhattan distance           0.835     0.575   \n",
       "k-NN Classifier - Euclidean distance           0.831     0.562   \n",
       "Logistic Regression                            0.826     0.277   \n",
       "\n",
       "Criteria                              Mean squared error  Precision score  \\\n",
       "Models                                                                      \n",
       "Decision Tree Classifier                           0.166            0.567   \n",
       "k-NN Classifier - Manhattan distance               0.165            0.560   \n",
       "k-NN Classifier - Euclidean distance               0.169            0.550   \n",
       "Logistic Regression                                0.174            0.641   \n",
       "\n",
       "Criteria                              R-squared on the training set  \\\n",
       "Models                                                                \n",
       "Decision Tree Classifier                                      0.959   \n",
       "k-NN Classifier - Manhattan distance                          0.949   \n",
       "k-NN Classifier - Euclidean distance                          0.949   \n",
       "Logistic Regression                                           0.822   \n",
       "\n",
       "Criteria                              Recall score  \n",
       "Models                                              \n",
       "Decision Tree Classifier                     0.505  \n",
       "k-NN Classifier - Manhattan distance         0.590  \n",
       "k-NN Classifier - Euclidean distance         0.574  \n",
       "Logistic Regression                          0.177  "
      ]
     },
     "execution_count": 71,
     "metadata": {},
     "output_type": "execute_result"
    }
   ],
   "source": [
    "res = pd.concat([dec_results, knn1_results, knn2_results, log_results]\n",
    "               , keys=['Decision Tree Classifier', 'k-NN Classifier - Manhattan distance'\n",
    "                      , 'k-NN Classifier - Euclidean distance', 'Logistic Regression']\n",
    "               , names=['Models', 'Criteria'])\n",
    "\n",
    "res_ = pd.pivot_table(res, values='Values', index=['Models'], columns=['Criteria'])\n",
    "res_"
   ]
  }
 ],
 "metadata": {
  "kernelspec": {
   "display_name": "Python 3 (ipykernel)",
   "language": "python",
   "name": "python3"
  },
  "language_info": {
   "codemirror_mode": {
    "name": "ipython",
    "version": 3
   },
   "file_extension": ".py",
   "mimetype": "text/x-python",
   "name": "python",
   "nbconvert_exporter": "python",
   "pygments_lexer": "ipython3",
   "version": "3.9.7"
  }
 },
 "nbformat": 4,
 "nbformat_minor": 5
}
